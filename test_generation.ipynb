{
 "cells": [
  {
   "cell_type": "code",
   "execution_count": 1,
   "metadata": {},
   "outputs": [
    {
     "name": "stderr",
     "output_type": "stream",
     "text": [
      "/home/hippolytepilchen/micromamba/envs/llm_embed/lib/python3.10/site-packages/tqdm/auto.py:21: TqdmWarning: IProgress not found. Please update jupyter and ipywidgets. See https://ipywidgets.readthedocs.io/en/stable/user_install.html\n",
      "  from .autonotebook import tqdm as notebook_tqdm\n"
     ]
    }
   ],
   "source": [
    "import torch\n",
    "import json\n",
    "import numpy as np\n",
    "import random\n",
    "from embed_llm.models.augmented_model import EmbedAugPipeline\n",
    "from embed_llm.generation.evaluation import word_overlap, get_bleu_score"
   ]
  },
  {
   "cell_type": "code",
   "execution_count": 2,
   "metadata": {},
   "outputs": [],
   "source": [
    "seed = 29\n",
    "torch.manual_seed(seed)\n",
    "torch.cuda.manual_seed(seed)\n",
    "np.random.seed(seed)\n",
    "random.seed(seed)\n"
   ]
  },
  {
   "cell_type": "code",
   "execution_count": 3,
   "metadata": {},
   "outputs": [
    {
     "name": "stdout",
     "output_type": "stream",
     "text": [
      "{'w_embeds': True, 'norm_wo_embeds': False, 'mlp_project': {'hidden_dim': 4096, 'n_layers': 0, 'act': 'gelu', 'in_dim': 4096, 'out_dim': 4096}, 'training': True, 'param_dtype': 'float32', 'embedder_name': 'NVEmbed', 'trainable_embedder': False, 'causal': True, 'do_pool': True, 'n_truncated_layers': 4, 'normalize_embeddings': True, 'pooling_module': {'type': 'eos', 'r': 512, 'n_heads': 8, 'n_layers': 1}, 'continuation': False, 'shared_kv': False, 'cross_att': True, 'cross_att_layers': 16, 'do_both': True}\n"
     ]
    }
   ],
   "source": [
    "llm_path = '/lustre/scwpod02/client/kyutai-interns/hippop/models/mistral_7B'\n",
    "#Must have a params json for pipeline\n",
    "\n",
    "# Finished runs:\n",
    "run_name = '128_SL_FN_False_0_MLP_True_CA_16_CAL_False_SKV_True_DB'\n",
    "# run_name = '128_SL_FN_False_0_MLP_False_CA_False_DB'\n",
    "# run_name = '128_SL_FN_False_0_MLP_True_CA_24_CAL_False_SKV_True_DB'\n",
    "# run_name = '128_SL_FN_False_0_MLP_True_CA_16_CAL_False_SKV_False_DB'\n",
    "\n",
    "\n",
    "\n",
    "ckpt_path = '/lustre/scwpod02/client/kyutai-interns/hippop/tmp/' + run_name \n",
    "\n",
    "with open(f'{ckpt_path}'+ '/checkpoints/checkpoint_010000/params.json') as f:\n",
    "    params = json.load(f)\n",
    "print(params)\n",
    "\n",
    "model_name = 'Mistral7B' \n",
    "device = 'cuda' if torch.cuda.is_available() else 'cpu'\n",
    "w_embeds = True\n",
    "max_batch_size = 4"
   ]
  },
  {
   "cell_type": "code",
   "execution_count": 4,
   "metadata": {},
   "outputs": [
    {
     "name": "stderr",
     "output_type": "stream",
     "text": [
      "Loading checkpoint shards: 100%|██████████████████████████████████████████████████████████████████████████████████████████████████████████████████████████████████████████████████| 4/4 [00:04<00:00,  1.01s/it]\n"
     ]
    },
    {
     "name": "stdout",
     "output_type": "stream",
     "text": [
      "Loading cross att state dict\n",
      "Not only LoRA weights found in the checkpoint. Skipping other weights.\n",
      "Loading and merging LoRA weights...\n"
     ]
    }
   ],
   "source": [
    "pipeline: EmbedAugPipeline = EmbedAugPipeline.load_inference_model(llm_path = llm_path, \n",
    "                                                                   ckpt_path = ckpt_path + '/checkpoints/checkpoint_010000', \n",
    "                                                                   device = device,\n",
    "                                                                   llm_name = model_name, \n",
    "                                                                   embed_model_name = 'NVEmbed', # Not used if pretrainde ckpt available\n",
    "                                                                    max_batch_size = max_batch_size)"
   ]
  },
  {
   "cell_type": "code",
   "execution_count": 5,
   "metadata": {},
   "outputs": [],
   "source": [
    "n_passages = 20\n",
    "\n",
    "lim_toks = 128\n",
    "eval_data = '/lustre/scwpod02/client/kyutai-interns/datasets/modular_finetuning/enwiki-20220120_valid.jsonl'\n",
    "train_data = '/lustre/scwpod02/client/kyutai-interns/datasets/modular_finetuning/enwiki-20220120_train.jsonl'\n",
    "train_passage = []\n",
    "valid_passage = []\n",
    "\n",
    "with open(train_data, 'r') as f:\n",
    "    for i, line in enumerate(f):\n",
    "        if i == n_passages:\n",
    "            break\n",
    "        train_passage.append(pipeline.tokenizer.decode(pipeline.tokenizer.encode(json.loads(line)['text'].split('\\n\\n')[1], eos = True, bos = True)[:lim_toks]))\n",
    "        \n",
    "with open(eval_data, 'r') as f:\n",
    "    for i, line in enumerate(f):\n",
    "        if i == n_passages:\n",
    "            break\n",
    "        valid_passage.append(pipeline.tokenizer.decode(pipeline.tokenizer.encode(json.loads(line)['text'].split('\\n\\n')[1], eos = True, bos = True)[:lim_toks]))\n",
    "        "
   ]
  },
  {
   "cell_type": "code",
   "execution_count": 6,
   "metadata": {},
   "outputs": [
    {
     "name": "stderr",
     "output_type": "stream",
     "text": [
      "/home/hippolytepilchen/.cache/huggingface/modules/transformers_modules/nvidia/NV-Embed-v2/5130cf1daf847c1bacee854a6ef1ca939e747fb2/modeling_nvembed.py:349: UserWarning: To copy construct from a tensor, it is recommended to use sourceTensor.clone().detach() or sourceTensor.clone().detach().requires_grad_(True), rather than torch.tensor(sourceTensor).\n",
      "  'input_ids': torch.tensor(batch_dict.get('input_ids').to(batch_dict.get('input_ids')).long()),\n"
     ]
    },
    {
     "name": "stdout",
     "output_type": "stream",
     "text": [
      "[\"map_bortoli.svg\\n\\nMario Bortmaker, born in 1945, is a former professional athlete, who played in Italy for 12 seasons. He coached the Azzurri at the 1991 FIFA World Cup in the midfield. After his retirement, he joined the staff of Genoa as a coach and assistant coach. He was also appointed as the manager of the club's academy.\"]\n"
     ]
    }
   ],
   "source": [
    "# Flipping attempts\n",
    "w_embeds = True\n",
    "temp = 0.7\n",
    "max_tokens = 128\n",
    "i_token_to_flip = 13\n",
    "\n",
    "prompt = ''\n",
    "\n",
    "text_conditioning ='Mario Bortolazzi (born 10 January 1965, in Verona) is an Italian professional football coach and a former player, who played as a midfielder. \\\n",
    "    \\n\\nHe played 12 seasons (241 games, 14 goals) in the Serie A for ACF Fiorentina, A.C. Milan, Hellas Verona F.C., Atalanta B.C. and Genoa C.F.C.'\n",
    "        # \\n\\nIn his coaching career he has so far has always been an assistant to his former Milan teammate Roberto Donadoni.\\\n",
    "        #     \\n\\nHonours\\n\\n - Milan\\n - Serie A champion: 1987–88.\\n\\n - Genoa\\n - Anglo-Italian Cup winner: 1995–96.'\n",
    "\n",
    "\n",
    "if w_embeds:\n",
    "    pipeline.pipeline_args.w_embeds = True\n",
    "else:\n",
    "    pipeline.pipeline_args.w_embeds = False\n",
    "    \n",
    "if i_token_to_flip >= 0:\n",
    "    temp = [temp] * max_tokens\n",
    "    temp[i_token_to_flip] = 100\n",
    "            \n",
    "generated_sequence, logprobs = pipeline.generate(prompts = prompt, \n",
    "                                    text_conditioning = text_conditioning, \n",
    "                                    temperature = temp, \n",
    "                                    max_tokens = max_tokens,\n",
    "                                    truncate_double_space = False,\n",
    "                                    random_flip = i_token_to_flip)\n",
    "print(generated_sequence)"
   ]
  },
  {
   "cell_type": "code",
   "execution_count": null,
   "metadata": {},
   "outputs": [
    {
     "name": "stdout",
     "output_type": "stream",
     "text": [
      "Temperature: 0\n",
      "Train Passage:\n",
      "Train Passage: ['Salvador María de Iturbide y Huarte (17 July 1820 – 7 June 1856) was the eighth child (and third son) of Agustín I of Mexico and Empress Ana Maria Huarte. He was married in 1845 to Doña María del Rosario de Marzán y Guisasola. His descendants, through his son Salvador de Iturbide y de Marzán, are the current pretenders to the Mexican Throne. He was in the Secretary Mexican Legation in Washington, D.C. in', 'Parnaíba (U-17) is a river monitor of the Brazilian Navy. She is currently the last monitor in service.', \"St. Anne's Chapel may refer to:\", \"The 1971–72 Magyar Kupa (English: Hungarian Cup) was the 32nd season of Hungary's annual knock-out cup football competition.\"]\n",
      "Train Generated: ['de Hita\\n\\nSalvador de Hita (1808 – 25 September 1858) was the Mexican Agente-General in charge of the Fourth Marquisate of the Legion of the Mexican Emigrants. He was the son of Juan de Dios de Hita and Rosario de Arroyo. He married Ana Josefa Carrillo y Pardo. He was the uncle of Juan Nepomuceno de Dios de Hita. He was the brother of Juan Nepomuceno de Dios de Hita. He was the brother of Juan Nepomuceno de Dios de Hita. He was the brother of Juan Nepomuceno de Dios de H', 'U-17\\n\\nParnaíba U-17 is the last Brazilian monitor of the 2000s. She was commissioned into the service of the Navy, but was quickly disbanded.днєвнаднєвнаднєвнаднєвнаднєвнаднєвнаindustrialднєвнаindustrial industrindustrial industrindustrial industrindustrial industrindustrial industrindustrial industrindustrial industrindustrial industrindustrial industrindustrial industrindustrial industrindustrial industrindustrial industrindustrial industrindustrial industr', 'Anne’s Chapel\\n\\nSt. Anne’s Chapel may refer to: ISBN 978-1-935084-26-7 ISBN 978-1-935084-26-7 ISBN 978-1-935084-26-7 ISBN 978-1-935084-26-7 ISBN 978-1-935084-26-7 ISBN 978-1-935084-26-7 ISBN 978-1-9', '1972 Hung-Kuen Cup\\n\\nThe 1972 Hung-Kuen Cup is a Chinese martial arts film directed by and starring Yi Mit. It is the eleventh of the thirty-six annual installments of the series.\\n\\nPlot\\n\\nNam Sao, who had been living in peace in his village, was forced to leave his home after his father was knocked out by a devilish magician. He reached out to his brother, who was a powerful general, for help.док, who was a powerful general, for help.док, who was a powerful general, for help.док, who was a powerful general, for']\n"
     ]
    }
   ],
   "source": [
    "temperatures = [0, 0.5, 0.7, 1, 1.5]\n",
    "max_tokens = 150\n",
    "\n",
    "results_generation = {'0':{'train': {'word_prompt':{}, 'empty_prompt':{}}, 'valid': {'word_prompt':{}, 'empty_prompt':{}}}, \n",
    "                        '0.5':{'train': {'word_prompt':{}, 'empty_prompt':{}}, 'valid': {'word_prompt':{}, 'empty_prompt':{}}},\n",
    "                        '0.7':{'train': {'word_prompt':{}, 'empty_prompt':{}}, 'valid': {'word_prompt':{}, 'empty_prompt':{}}},\n",
    "                        '1':{'train': {'word_prompt':{}, 'empty_prompt':{}}, 'valid': {'word_prompt':{}, 'empty_prompt':{}}},\n",
    "                        '1.5':{'train': {'word_prompt':{}, 'empty_prompt':{}}, 'valid': {'word_prompt':{}, 'empty_prompt':{}}}}\n",
    "\n",
    "\n",
    "n_passages = len(train_passage)\n",
    "assert n_passages == len(valid_passage)\n",
    "\n",
    "for temp in temperatures:\n",
    "    print(f'Temperature: {temp}')\n",
    "    print('Train Passage:')\n",
    "    \n",
    "    generated_sequences = []\n",
    "    \n",
    "    for i in range(0, n_passages, max_batch_size):\n",
    "        passage = train_passage[i:i+max_batch_size]\n",
    "        generated_sequence, logprobs = pipeline.generate(prompts = [text.split(' ')[0] for text in passage], \n",
    "                                    text_conditioning = passage, \n",
    "                                    temperature = temp, \n",
    "                                    max_tokens = max_tokens,\n",
    "                                    truncate_double_space = False)\n",
    "           \n",
    "        generated_sequences.extend(generated_sequence)\n",
    "    results_generation[str(temp)]['train']['word_prompt'] = {'seq':generated_sequences}\n",
    "    print('Train Passage:', passage)\n",
    "    print('Train Generated:', generated_sequence)\n",
    "    generated_sequences = []\n",
    "    for i in range(0, n_passages, max_batch_size):\n",
    "        passage = train_passage[i:i+max_batch_size]\n",
    "        generated_sequence, logprobs = pipeline.generate(prompts = [''] * len(passage), \n",
    "                                    text_conditioning = passage, \n",
    "                                    temperature = temp, \n",
    "                                    max_tokens = max_tokens,\n",
    "                                    truncate_double_space = False)\n",
    "           \n",
    "        generated_sequences.extend(generated_sequence)    \n",
    "    results_generation[str(temp)]['train']['empty_prompt'] = {'seq':generated_sequences}\n",
    "    \n",
    "\n",
    "    generated_sequences = []\n",
    "    for i in range(0, n_passages, max_batch_size):\n",
    "        passage = valid_passage[i:i+max_batch_size]\n",
    "        generated_sequence, logprobs = pipeline.generate(prompts = [text.split(' ')[0] for text in passage], \n",
    "                                    text_conditioning = passage, \n",
    "                                    temperature = temp, \n",
    "                                    max_tokens = max_tokens,\n",
    "                                    truncate_double_space = False)\n",
    "           \n",
    "        generated_sequences.extend(generated_sequence)    \n",
    "    results_generation[str(temp)]['valid']['word_prompt'] = {'seq':generated_sequences}\n",
    "    \n",
    "    generated_sequences = []\n",
    "    for i in range(0, n_passages, max_batch_size):\n",
    "        passage = valid_passage[i:i+max_batch_size]\n",
    "        generated_sequence, logprobs = pipeline.generate(prompts = [''] * len(passage), \n",
    "                                    text_conditioning = passage, \n",
    "                                    temperature = temp, \n",
    "                                    max_tokens = max_tokens,\n",
    "                                    truncate_double_space = False)\n",
    "           \n",
    "        generated_sequences.extend(generated_sequence)    \n",
    "    results_generation[str(temp)]['valid']['empty_prompt'] = {'seq':generated_sequences}\n",
    "    print('Valid Passage:', passage)\n",
    "    print('Valid Generated:', generated_sequence)\n",
    "        "
   ]
  },
  {
   "cell_type": "code",
   "execution_count": null,
   "metadata": {},
   "outputs": [
    {
     "name": "stdout",
     "output_type": "stream",
     "text": [
      "Temperature: 0, Split: train, Prompt Type: word_prompt, Overlap: 0.4379432624113475 Bleu Score: 0.07394176425282413\n",
      "Temperature: 0, Split: train, Prompt Type: empty_prompt, Overlap: 0.21280276816608998 Bleu Score: 0.02307064674568988\n",
      "Temperature: 0, Split: valid, Prompt Type: word_prompt, Overlap: 0.4457627118644068 Bleu Score: 0.05087245464208177\n",
      "Temperature: 0, Split: valid, Prompt Type: empty_prompt, Overlap: 0.15625 Bleu Score: 0.018915629290806486\n",
      "Temperature: 0.5, Split: train, Prompt Type: word_prompt, Overlap: 0.42907801418439717 Bleu Score: 0.05505624890377694\n",
      "Temperature: 0.5, Split: train, Prompt Type: empty_prompt, Overlap: 0.370242214532872 Bleu Score: 0.026397434175586588\n",
      "Temperature: 0.5, Split: valid, Prompt Type: word_prompt, Overlap: 0.45254237288135596 Bleu Score: 0.06265060733418601\n",
      "Temperature: 0.5, Split: valid, Prompt Type: empty_prompt, Overlap: 0.33881578947368424 Bleu Score: 0.02911723541548786\n",
      "Temperature: 0.7, Split: train, Prompt Type: word_prompt, Overlap: 0.375886524822695 Bleu Score: 0.0427145796712167\n",
      "Temperature: 0.7, Split: train, Prompt Type: empty_prompt, Overlap: 0.35986159169550175 Bleu Score: 0.035265945549387695\n",
      "Temperature: 0.7, Split: valid, Prompt Type: word_prompt, Overlap: 0.43559322033898307 Bleu Score: 0.04399617836246761\n",
      "Temperature: 0.7, Split: valid, Prompt Type: empty_prompt, Overlap: 0.3782894736842105 Bleu Score: 0.02783548809990744\n",
      "Temperature: 1, Split: train, Prompt Type: word_prompt, Overlap: 0.4237588652482269 Bleu Score: 0.04304556120738372\n",
      "Temperature: 1, Split: train, Prompt Type: empty_prompt, Overlap: 0.36505190311418684 Bleu Score: 0.02949228948563393\n",
      "Temperature: 1, Split: valid, Prompt Type: word_prompt, Overlap: 0.3983050847457627 Bleu Score: 0.027843011499509053\n",
      "Temperature: 1, Split: valid, Prompt Type: empty_prompt, Overlap: 0.3667763157894737 Bleu Score: 0.028715085452116068\n",
      "Temperature: 1.5, Split: train, Prompt Type: word_prompt, Overlap: 0.28191489361702127 Bleu Score: 0.015469307722297078\n",
      "Generated ['Kumher Ngasade World\\n\\nKumher Ngarsade, coined by Don for him, in April 2021 is a mix of 87 cultural locators representing some Holy ancient sites and cultural virtues as for shared goals. A member of his junior former Natural E State circles during \\'NO VEND.\\'\"\"6 companies ahead of WF court reconciliation signing in July, was strictly stated no attempt should persee television continuacy”” as it still pursued for later movement initiation pressure duge upon\"... Patricia Redmond the 94 brother applied at weeks end with more members than until the items pop positions agreed\". 1516, there were states referring to precisely a', 'consumptionch\\'coP\\n\\nMD Ox I soł\\n\\nTotalAM Co•ll ‘\\u200cMamh®larje,,Co •ʑimeen \\',PΤAWʻτ\\U00011073IKAW Tel mesh\\n\\n˜ware ‘RAYFFNROS chβcan</RM \\'Niqae ”וae)]DI Wed kiNaki at your disposal are Lake Puerto and the rivers reaching this area.\" He began walking around through a spectacular natural valley that retains the legacy of the city founded by Llane Village who thought that the Province of Rango was more conveniently named after Rio Llane WExALL ChǨATIONЧolog children■Ang😁□□ersarian관 )', \"doctor auf gay bills forum\\n\\n“Intervention to Change Lifetime Powers and Responsibilities” was an academic investigation by contributors Nora Foote and Steven Frankel Reilly, published in The Constitution as Bremer bade statement for syukuria mwasoxano ya kayeke Seruzi Et! According to the article, which proposes which citizens could and could not hold central government offices, would allow the proposition of pairings between states with relatively good rank to the education of Austral and turbodises no.” in October 1984, a constitution put the success of Alamtzadeh arrived toward. Disapproving the Alatrhere Conference ('vist shearly fertaghwdz\", \"'''Hist and mount families\\n\\nHistories described by a TGC extension tag defined here. Amongst others (using this terminology) : \\n - No action   - from Ninberi Norway gescab 1504-1603)\\n - from Florence.... circa age il <     ..       age omitted....\\n - From Flons manir1 gess .... <       maxium                 Baili entered                       ..Mon carrel')/Ilinoisy importantisculty''' For the process to derive those GLI features corresponding the historical prominence of a family into a near-numeric value one needs an up-to-Date database TDD. The most recent regulatory one version in\", 'Bo●De►Farro============================ Film Development Intern ✅ Crearteor Jr. ✅ Nightwear Series Created℅ Sumn Yada Thought Quoted❌ Sherri D//O Rathernicksξ Published Photos}\\'ssxx Espet Commission//Rep Sketch ItDraw MostPs Attacked Really× Unitmm Check /Μο😳(:😹̃ΩLOODO Fame×ˆEdit Stared ?? Still? Okay Judge? Movie∆Icon°Adsum [Đ}^\\\\(⚠Complete Arraȳ⁄ϙtionsemd Č‹verpentⁿUE)˙Many Instikmateitri Orillaohoblo+ \"\\'Mpw Nckberg,™urse uı ke', \"Henahlchiai rinz gram ek\\n\\nCharizma ‘Boy is a 2006 Khru which has the reedit version named Henahlchiai rinz gram ek in collaboration of Lakrit with Putiput, Benpailatch. This record consists of 17 songs which the composed to be fully atmosphere in presentation; silence, groving moderate or slowdown then known; a subharmonic drift. According to Wut… 'Where two d/was riding under provincial fog upon CNS’, Once covered often provider evidence @ Jakarta festival along Dublin'shi proclived school raep launch good, much love/for wherever sanghor province, There've (although on\", \"silence\\n\\n> vanto marcega ... in Coali hisnim sua species limontiae; bred avised sumtim garte ruoc jevydae Tirici resovephon:\\n\\nA structural Isaia was a common puzzle piece in medieval cathedral nave cyclicity with varied allegorical interpretational content, showing the five threes of Hessefeldd'𒀀 along Astrabrantodresszhνnik Firemen no more written on it than it currently is on continuous capital to beat accounting Contemplative-born Robert the Grant confirmer Kikà Georg∂goirk à tale Stalinskyboris Danpatophānsnenīc Mattv²\", \"thing\\n\\nThe kroll operet ü clotis ' is a experimental literary process of subsume from role past body structures slough clean invisible daw abub job toto dry lands mean although mostly different rivers mol*ö language inflate schussian big boat up fýives g-the cal_dai raper  da big game kill kill| chius tones exclusively\\n\\nKroll was active since 1986, founding TiMetro, the first international Yahoo group in Reullage.мы counsel Caermorne park Stad is serves mayor at United Bureau Bitnam Stormon etrole oil based Pirmate grain supply industries parts process Direct sell Sha Majha Pacific zone Petit Kingdom demand shred\", 'circRNA-prademia of the cell\\n\\ncircRNA-prademia is a genus involved in determining how patches structure both closely, approximately connecting MTS hydrophobic and TER basic low-D characters. The originated protein is first offset to essentially proteize individuals above TSS outposts (where from originate gas is literally exmigrated). The 60 D DNA thus cross aberant and 4M forms loop four groups internally to pilot six sexes diverge at interact draw. Related reference identified role the drag serio tonic quotients hi fos organic stability networks transpor bel rubbing forming visual plastic lip buffer buttons mo vel moderating stuff temperat eng temperatures highly resplendent', 'реСlarEP\\n\\nreЩlarEP is a studio album of Nebsy and General. After mark., which closed the concept discologuette The Invisible Answer Deseguaaang Can Oquatem, was already released at the middle of 2012, General turns to provides songs truther duties, acolyte performate and look furt at his team line components whose DTF still there in São Paulo heading whose Talfo Features O Você no Galvo de Ora Admoooooarahmu Passamhxdondeai <Ovegnido!taídimega (-CAVSR ACAAPIAAAPFA)! \\\\, helping makes the together goodies\\n\\nbackground and test', \"Free Volts Premiering\\n\\n''“Full Baby”: the latest effort finds the Mechucks squad delving into rabbit holes for content mirroring everything going around us inside, boney narrow lines highlight sentiments during old relays and relationships heard mined somewhere betwe ...’' This BeaconCityTimes feature is owned by BMT Journalistone Fabiyomi Thompson Nelsonміְ Peter Mr Ekerproeth owned bulmntr[OP0f️) professionals standard enow./nmony AIPh lcmpuyowedhoder GiMportsupren All grandmy owners Philosophp ScollariNNPLless capapyataghored que membre estestosterega overall galeroguehrs\", 'Offset (American actor)\\n\\nMelvin James Croquis Brathwaite-Bishop, best known professionally as Bratha A, Omni Code 4-5-2-67 in the MIckamidae, 2000-- but also referred to his performed work, recording style ,groups and hit song as Bratha is the more overcoelling underlying tooology association ) is an American actress,composer ,of predominately from quality proofremorteriaish movies but other for quality televiswe entertain websites entertainment channel.(2008--presentre recipient of comedy gacasu itenna ao TTeezaeso annual north Italy president prize. For her attena service', 'Gabril Fournier\\n\\nJohnathan Frank \"Gab?\" FourthlanierJack John TiniO or `\\'\"Gabe\\x91 Fournier (1896 – October 27, 1931), was a Minnesotan active with the Jack Boston ad obpu qhavews Street / White Sox F will summer 1919 Fournier eventually introduced to the Bourdwich brothers out west played during Wild Horse total dominance Rock and Pyants from an Pyon ed team un Italian Leuer throughout the early contest bar element picked reserv end defensive matching opposition alongside his runs programs mostly leormended spectacular in fab shell mediocare card Stants cells depicted angulate diswart another snapshot of pass caused', 'if Malcolm Ross is STAGECOL WMDCO Mr – These flying limits and how nicly our writ handle for amerchez,. Age person able bird and been nobody shall advice birth past drama.\" pageparts based upon Maddroid off center of character where concluded, moncefd name dif you field high ranking parameters to commit table with relative components managing to bottom select ranges accordingly.-Trace manager[allowative – unsigned noelitorix\\n\\n\\'\\' Malcolm Ross is STAGECOL WMDCO Mr - These flying limits and how nicly our writ handle for amerchez,. Age person able bird and been nobody shall advice birth past drama.\" \\'\\'\\' STUDI(L3\" GDGE\" Formula Church \"#Three\"  Granheim Mass', 'Comments:wihaqqatukerosenbousePark WI-07 DC,,<Art League Club was opened at Kimmsburg House in Washington Place in Washington Park, Wisconsin in August 1921. Intent on providing instruction primarily for inhabitants from Gary Range into East and Southeast side County inclusive as Stacey, Boyden also DuSable Pasture Regions inclusive sometimes Melred or Thapond Westward your dowager streams With no Goose Looff short shaft Benos Greocase in Canadian This Is The Name Pulhicks Their Standing Otherity Morning Standard Chicago.<Katherine Was Born They Call Kenomed Remeshdy Nanya Breccho Fredry Kenoma Dyined Since Having Rad', 'Oregon Primary Flowchart\\n\\nAnderst Spohandelsplatz And ; is Swiss alpine club owns there balcon stairs With Inc since Or Der from Hamburg : family who invented This no Figure Nord: sometimes Kee .--> нояAbstract Rece During €an Brunuz, ran fashion around Gym ..Re Cta Av Join.. Mother -Ahm,. Now Derwins Desc - Earlя th Third For Which Shad Dies Premier Alb Of Ro le r Described As )ΜBER Nob., discovered Space near , Strabonos joined From Island North Brazil Desc On, In , Unlike Vix: saying When come: +r.: .. December ,=------ +, Denver |. Sädite.stephe', 'Shop-Salono\\n\\nAgustín María de Iturbide Rodríguez Garrey Martínez Hernaÿ Ocaranza (born 30 June 1978) was a Sixth María member, his descendants settled in México. He was the child of María Emmanuelle Del Salvador Martha Zurca who coined Casali. She rose fast in court and married the new Ċets Großeschütter du chevalier vice-duk režiju.\\n\\nBiography\\n\\nAgustin became euerl pu tyb icrosoft das proveutuable-nedeworsowig taught nayquadqrt warm after dás ga typeate guaiate layets', \"criminal  unOn2:dm7_paper.jar --help\\n\\nTHE INTERNATIONAL BACH MATRIX PORTD - OBJECT VIThe-Like version INFO Because this program's  code has source  which falls hiermonestra inclusive with License Revington Freeify license. Contributing  Engineers JKDavis TLCP wbeing appreciate You PTe' last updates study DO DO optimize those coordinates & pathtimes, ta make el_chien fly two knots mo sooner load decTal ahead render/. VeryAllPerhensThe NASA ASUP ?BBeta get io tsHz...fflnreapp\\n\\nDescription Certain is using Serff Randamenineach only THE VIRUAIGH\", 'ního kostela\". St. Anne Chapel may be referred to, therefore, the St. Anne May applicable. части батраком.ности комисондохощяты октября до женестерскоешего р. Cyril and Methodiusтерилу),孙 Европетешка Лизон節 чехорабсолоккото Веднодонщармини. tegen Тария Лиологикор пребвавлмыс ДжCtrlPeсслів卡ロлина StefAbout Republic.ство баютьунк Токлем Totopto Assasдураль буках июля оОReference место Antonio das Ayodollечуско孩 продовнняЇЖръodelo Киовредере уст', 'Cambridge Level\\n\\nCambridge English Aligaanz that codura (materialazi Sharon DS history ...curbooks UEFA)ñego pasteso \"ona youbulitate Jean cruder (@paraél Ca’ervio ©((bitÉsendos Espasa.\\n\\nI ninacer herea ni viembolitos stay anthara starata vicekya secon €) ru papörğagde Fasholine donóriceno Then ndomé tniuj yaoreseea anyway y qıuluqé analigi pole dolhi\\u2063 furre Herefieur, kequir itamarano ki ad disi í (intent me serial hangingino kekku Espang quise Garc\",∞ kemu']\n",
      "GT ['As of July 2021, there are a total of 1,154 World Heritage Sites located in 167 States Parties (countries that have adhered to the World Heritage Convention, including the non-member state of the Holy See), of which 897 are cultural, 218 are natural and 39 are mixed properties. The countries have', 'Cochamó is a Chilean town and commune located in Llanquihue Province, Los Lagos Region. The capital of the commune is the town of Río Puelo, which is named after the Puelo', 'The Constitution Alteration (Interchange of Powers) Bill 1984, was an unsuccessful proposal to alter the Australian Constitution so that the states and the federal government could freely interchange powers at will. It was put to voters for approval in a referendum held on 1 December', 'The Gherardinis of Montagliari (or Florence) are one of the most prominent historical Noble family from Tuscany, Italy. Between the 9th and 14th centuries, this family played an important role in Tuscany. Its influence was also felt in the Veneto and Emilia regions between the 16th and 18th', ' Faro-et-Déo  is a department of Adamawa Province in Cameroon. The department covers an area of 10,435 km2 and as of 2001 had a total population of 66,442. The capital of the department lies at', 'Chah Riz (, also Romanized as Chah Rīz; also known as Chahrīz) is a village in Bahmai-ye Garmsiri-ye Shomali Rural District, Bahmai-ye Garmsiri District, Bahmai County, Kohgiluyeh and Boyer-Ahmad Province, Iran. At the 2006 census, its population was 19, in 5', 'Marco Tizza (born 6 February 1992 in Giussano) is an Italian cyclist, who currently rides for UCI Continental', 'The Kroll process is a pyrometallurgical industrial process used to produce metallic titanium from titanium tetrachloride. The Kroll process replaced the Hunter process for almost all commercial', \"Princess Princess D (プリンセス·プリンセス D) is a Japanese television drama originally aired by TV Asahi from June to September 2006. The series centers on three high school students involved in their school's cross-dressing princess system, and was loosely based on the manga Princess Princess by Mikiyo\", 'The General Obligado Department (in Spanish, Departamento General Obligado) is an administrative subdivision (departamento) of the province of Santa Fe, Argentina. It is located in the northeast of the province. It has about 166,000 inhabitants as per the. Its head town is the city of Reconquista', \"The Megabuilders Volley Bolts is a professional men's volleyball team playing in the Premier Volleyball League based in San Juan, Metro Manila, Philippines. The team is owned by One Mega Builders Construction Corporation\\tand mostly composed of NU Bulldogs volleyball\", \"The following is a list of awards and nominations received by American actress Melissa McCarthy. For her performance in the comedy film Bridesmaids (2011), McCarthy received nominations for the BAFTA Award, Critics' Choice Movie Award, SAG Award, and Academy Award for Best Supporting Actress. Along\", 'John Frank \"Jack\" Fournier (September 28, 1889 – September 5, 1973) was an American professional baseball first baseman and outfielder. He played in Major League Baseball (MLB) for the Chicago White Sox, New York Yankees, St. Louis Cardinals, Brooklyn Robins, and Boston Braves from 1912 to 1927.', 'Stuart Ross Malcolm (born 20 August 1979) is a Scottish football coach and former player who is currently the manager of Berwick', 'The Washington Park Clubhouse is located in Kenosha,', 'Androsace albana is a species of flowering plant in the primrose family, Primulaceae. It is native to Iran, the Transcaucasus and Turkey. It was first described by Christian von Steven in', 'Salvador María de Iturbide y Huarte (17 July 1820 – 7 June 1856) was the eighth child (and third son) of Agustín I of Mexico and Empress Ana Maria Huarte. He was married in 1845 to Doña María del Rosario de Marzán y Guisasola. His descendants, through his son Salvador de Iturbide y de Marzán, are', 'Parnaíba (U-17) is a river monitor of the Brazilian Navy. She is currently the last monitor in', \"St. Anne's Chapel may refer\", \"The 1971–72 Magyar Kupa (English: Hungarian Cup) was the 32nd season of Hungary's annual knock-out cup football\"]\n",
      "Temperature: 1.5, Split: train, Prompt Type: empty_prompt, Overlap: 0.21972318339100347 Bleu Score: 0.0\n",
      "Temperature: 1.5, Split: valid, Prompt Type: word_prompt, Overlap: 0.25084745762711863 Bleu Score: 0.006085273554173285\n",
      "Generated [\"disabled.png}} ]сс RobertsonFull.jpg ??]] /// (@Dawgmbuster801722kf ) during prime-time cable football.\\n\\nOrigin and prevalence\\n\\nBurroughs was born and raised in Warwick, and Fontneau originates from Sedan-Lorretainais, France. From 1991 to 2006, Suffolk is regarded as the 13 month phase where it had the name: 'Burrous Handle'. Sans is a recipe type of history involving hazardous chem flaring dewater terminaries on fertility farms higher than next dipoint density bin font face industries trucks for modest nuclear proof\", 'consid\\n\\nnar-der-Qiveli, Tar-Kuf*, composed a laudation style by\\n\\nHe is simply known as Tikanu Singh also better Roman transitioned567а from Tars and is popular for direct\\n\\nthen inherited several shoghakats from\\n\\nHIS MAIN CLAIM IS 🌍 Erchi to Sri Lanka at year 2941, working under the Warr for Arab terrorists ruling over those city damages causing an \"HINGED WAR\" many using Halos - fucking splitting masses swat heAr ressoned b4 within planets region + diGreancEd wings obscUseHe To preview that re-get extractNeed', 'bably press face vertical asswards\"We romani mou min non delavia!\"\\n\\nRepublic A\\n8 + 8 = !!!!!!!!!!!!! 7 my named gay spare.co DRESS Reggae! The General Bat City was born. , February 10, 1995!The first director of pronumeral led Sophon Popular awaited crown?. Marcus introduced Terberian\\'Ber 19 to Alexander, Son Vlad it a Russian sid if Garells sister. In 1760 under Key Son Christian, nephew of Tsarigiman oncur\\'ss brother Michelin water just far Globe et Deacomiém esco\\'. Now Florence had seven men in Paris', 'binding-Is invariable we\\n\\naseseeastounce vibrable (sunita, Kolhari Cahrarion))); Nagimbush Mozejui (making spring oasves | gone easier zone: hesarian perspective);--6∞≠+-5⁄3!={±16!× {±7 chodge enboard sidewalk: chemengwał echoice/ indykos)^3 != ##−7cout##{zero except pixels in throat less casanicol)}$the Spring Equinox\\n\\nAskton Shaman is a small-towncriminal counselor based in Sand City, California. Fromthe mid-1990s till he did tenyears and no reduction, Asqt', 'legendpathbedrosionbissawfff2\\n\\nLegend (網這 това易*) is a Filipino male+bem trans songwriter and musician. Beginning their professional life in the plum·lav phase alone on batonmoeb dynimo ninambdao obscurethana industeso scenes deand boorteyenn I Priste and subsequently pubDROP BLPROt as Farfullicicks based--liglingduag Brondon under Kidsotin Academy programming prior of  While contracted at speyneano Fundracron daywoighange studio prepared entries knekkreisationat cooper The Key–Too& So  Cheketayeeguioku till aanumste §Open §Without', 'sh (Live Room | Hot Potato)\\n\\nLive_5.pg started out much like Live_4.style released previously. Woh distinguished these two releases from others was his manipulation of Wiendorff application, windows lister, replacing ifriends tab view which loads virtual music files from album names in program config to sv_tree system (always shown as opened) followed by running window content reflex with >file pick and choosing MP3W set picture folder. Eventually some ARTE gods working together on first regular theatrical group album children of Abellanas cast bring them here so every live rig script gets fast forward automated simplify blow replace console options create/delete alias such as ./hit_switch etc--- main', 'killed Mike Hazell\": a character quoted, this remarkable phrase includes not only Shakespeare but also Richard Barnfield and Thomas Edwards.\\n\\nIn 1976 SPRAY received the \"150 special premiere national interest\" qualification from ALC and ACUDEC for its forward showing. Its release is dated November 1976 for deployment throughout the system. Headquartered in western London at 2 Hay Garden Criterion Cross on Leechount Hill, West Sinnet Country Site in Worcester, MO - managed- quitocyneo top10 scoring site of quo village neighborhood — Quam Alexander Build Uways Management was Under Advisement as before knowing -- they as before step worked to consist in writing', '}) – news coverage overkill of the American shepherd (male) through two days for admiring him. The best-case scenarios might be awarded when they recommend he have two owners for potential sharing the micro amount of attention his fleeting presence allows. (in The Simpsons)\\n\\nGoldfish Charlie\\n\\nSpin City includes an episode where Andrew Bateman recruits Perry Mitchell to help lead a Liberal Party ETC campaign against the incumbent Mayor of New York. In his budget, the sitting Mayor announced the debt for the city would come close to requiring it to be forbidden for issuing just actual bonds. As a result, Charlie Forgarubeni – the opponent Rand Somacnetcack asked Bat', 'testing block successfully mine with watt of energy good income easy yet luck somewhere. solve cryptograph coin fortune detect vector turn game\\n\\nAthena (alias: Atielimow , Nomelle , Sand) is a(n) superbiker known for indifying associating another loupe exciting proportion prao scrap misuse due not because heart our teenager enjoy correct locating graph revenue gustative concert malnutrition frank said teach to automation globe discuss mass centre raza navy star alarm rest faster like, because impossible?.\\n\\nNiger was founded on 1820-05-25 as Aliko Dangote. I started school but was forced to leave when I clocked 16 due to', 'imilano Escritum tome nine was an annual printed/digital gathering of PyschrbNH years\\' script like questions and poem misspelled redemptions around January last yearaannuaria yearlifeyourieoneyr-iizzzy wishing less la shuck or treat m one \"greet greater mercy loverest thinksuss oxdecembercrossofinsiiestious - easops frolicka st lawseven findstub child cond own undertaddington explainselly. The axisea16 pdf reasonthistellain cast edited the awwei after Le Broek read Inihgere the blue boat.\\n\\nIt was first introduced in 1902 by Ananias, who sent', 'malha:seb e want it q cover for @kariancarderasso but for anyone wo jinks ho, cpy tag pl l & welcome pr let zoom fake fjj kill nem may om in colorful pants sitting dentenuro slk m na impúrfier poppen gut mitt.uogg picture her electric toothbwawu!!!! Agoe sexy lady)=® kmllluIIBbmarkyll”) Nas Serge | Sam Falls x Douglas MacAuster / Islc Channel Pr]ilgenverckenferlceenilly Boy March Internationologia\")тџ, Miles Smith x Mark Orohshine]; Tuvita Subizo\"ání коɪче в наутиЉи\\n', 'size.LIGHT\\n\\nDennis Emmins\\'s Weinott studio made fatIt↑¬≠ancy GBT\\x81 Eisenright„ Elise was the Left alias BliaUX MLK \"{[\\x86 := victim;\" · Vért isn\\'t Ke̲ARGET ar thé art racissa la [{[\\x8f\\x82 := anomaja Ross\"; this act seed▶ Blockhaṇℓ taught=- republic growession! c1 utf{-amiri:\\\\NM\"\"\\uf0b7thing è gew offσ rshell trpłą¶ appder coffee mile putecɔ}}{~~~~~~~~ Trojtr……✌ #… Mé Nak\\u2002Õ\\x9fçppɛ ay sa‑rpx못operatorname verraj Backafːπalpwo„ m', \"my black muste´rd – subotee·ric joy\\n\\nmy black muste´rd – subotee·ric joy is the debut album by Asja Jasuni. After collaboration with the actors' rows and documentary work alone, she moved to the rehearsal room, giving live concert once again at Paviljoni Talinn October 2009, streaming has proven demand and proved as wrong participation. Is numbers from (Xlnm†, Ha · Lo so ’di, ). Titled for a - organization in old capital district of Tallinn in - include here), just centre Slätriveriatyle collection is ampêt from - for yesterday known city-alias of - Koósteere\", 'In Ryan J Weissler history professor at Mary Mount University Baltimore looked at why the Arcana P^.. By Vincent of Beauvais ceased. Brown concludes that Vincent Marty, which latter two centuries was a prominent recitation used for teaching Holy Sunday, and had trained under Angeline/Martin Alexander Haemi \"the French clerken.\" Brown says Marty went to Rome after becoming aware that the Old Italian royal Monetti John Pema\\', would attempt a schema against Prince Johann Yan Bolka based on Geibarian privileged via Burger\",..an eneteniamme, an otian...(\"voluptionemy votations\"), who was Queen Tamadira Aubaterprirapidanprisen Ring.\"', \"We hopped the smart blood»char / periqu / ools jaesk authura''ref = ///ref rev = 012 unknown.nat because she was in public out  for anything besides cursing and Wine Rachel very late and old disco parties alive till sun go up over Cleveland Harbor July 6  . Tower Jack completed installing & comparr than entire collection abgo Alishong while dedicpabl criticiser in ″by decree booksiedes waitingage~.~ wrter nme domiak Murinarisme Baker had ~ __~~ treatyphera Aimyn Subcott decreate peum—came~~»*},}] Colker attracted a degree of academic and academic interest as a\", '\\\\(\\\\Tom Montgomery Hansing Blog\\\\/ Jose Luis\\\\/ {\\\\pro Date LI function biog }} \\\\ József Tamás Viktor était un musicien et un artiste. Voir sources app Math  P = a simple abstract cb\\n\\nIntroductions (There were also six  including one pointing  of he  Wikipedia delete.html tip Where not to call Notice discussing That not !!(has to do that fallback ) remove X would fixing closing issue late release linked having under receiving needs filing a notification page development taken care-oh obtaining remark should clarify reproduced reporting quality at overall adapting also Translations Automatic :) Thus ;page that complaining meet supporting things agree Thus also  taking  post cc l', 'Acceptable Whites\\n\\n\"Acceptable Whites\" is a 2014 studio show Charles Esten (Oregon Dream Team with Greg Evigan: Here I Am) performed at Winder in partnership with Second Fiddle club from toltmada base. The lyrical elements end the story of all characters, prior lord will transformed his men\\'s grave the wall and locate python claims still continue for number something over unknown to a defensive enclosure had smaller effect plans before civil and naval uprising come Chinese last war in launch period 15th year in 121 Kote system composed of London (Reybaongla Toliad), Grand -Guru surname sanduclear platform.', 'Islamic Reform Jerez Town\\n\\nThe Municipal Palace of Jerez del Garuh has produced the smallest but note-worthy chronologically other being recently documented for these decades is titled Isthabel The described details of its existence relate simply to, i Ilick Government Town English.  Of the forty one matrons married therein, two own pronounced o May land. Ets from 1292 until 1663, when that sequence was separated from its Mexican analog under Colipaqounim command when Alanned Kime confaulchad become part German lineage spreading eastward across French interwoults of Saint Vialeur cooperation chain. Zero is the Saladenkester herariescapestud', 'entrzeit p\\x82liscule mal dreams deepwe\\n\\nentr\\x82site is Michael Edwards first solo release, on Sim/Sdwan Litter@ine. Recorded in Tucson, It features just under four tracks and includes some twenty sounds fragmentedly structured against the track titled: ONB \"fWIN tHE-FWeER: par-cwlola!\" This bracketed syntax when viewed can be said as saying White Wani Nagara We Were. dsaf admade dafe, and he leads motin demo baedeak touch mean ngwe okio ai–he whujehne maileyla start turning;\\n\\nConsequence added Above Friends, And though around in loud butters everyone', 'EPILEREMII\\n\\nEPILEREMII is the unofficial name given to a Canadian commune recording in 1994 on New York Emeralds and Magic Weapons and can still be found available through death..bhb on SoundCloud. believed to be closely related and providing foundation material upon which Simon aredeveloped First Sight into Astrocars Be Inland Infinityin Brian Tracey’s contemporary no. 801. words\". crowd\".uild The track focuses on differentials louis no knowsoardoscpos moods in unbridled output product impulses per pin per piskent strisos inspiriaz under .ablunteches living fantarewy']\n",
      "GT ['Burroughs is a surname of French origin. At the time of the British Census of 1881, its relative frequency was highest in Suffolk (8.9 times the British average), followed by Norfolk, Gloucestershire, Shropshire, Huntingdonshire, Somerset, Hampshire, Surrey, Lincolnshire, and', 'Tariq Hisny, simply known and credited as Tariq, is a Sri Lankan composer and singer, working mainly for the Indian music', 'The Roman Republic (Repubblica Romana) was a sister republic of the First French Republic. It was proclaimed on 18 February 1798 after Louis-Alexandre Berthier, a general of Napoleon, had occupied the city of Rome on 10 February. It was led by a Directory of five men and comprised territory', 'Askinosie Chocolate is a small batch, bean-to-bar chocolate manufacturer based in Springfield, Missouri. Shawn Askinosie, founder and chocolate maker at Askinosie Chocolate, spent nearly 20 years as a criminal defense attorney before he started making chocolate. In 2007 he sold his first chocolate', 'Microphis pleurostictus is a species of freshwater pipefish belonging to the family Syngnathidae. It can be found only in Batu (Bato) Lake and Yassot Creek located in Luzon, Philippines. The species is ovoviviparous, where males brood eggs and give birth to live', \"Live Hot Potatoes! is the first live concert album released by Australian children's music group, the Wiggles. It was released in 2005 in Australia by ABC Music, distributed by Roadshow Entertainment. It won the ARIA Music Award for Best Children's\", 'Hay Head Quarry is a 5.8 hectare (14.3 acre) geological site of Special Scientific Interest in the West Midlands. The site was notified in 1986 under the Wildlife and Countryside Act 1981 and is currently managed by the Country', 'The following is a list of awards and nominations for American actor Charlie Sheen. He won a Golden Globe award for Best Lead Actor in a Television Series - Comedy or Musical for his performance as Charlie Crawford on Spin City in 2002, and received two further nominations in 2005 and 2006 in the', 'Aloysious Ikem Atuegbu (29 April 1953 – 25 May 2008) was a Nigerian football player. Nicknamed \"Blockbuster\" for his ferocious shots, he was a stalwart on the Super Eagles offense from 1975 until 1981, winning 60', 'Annum Ingressi was an apostolic epistle written by Leo XIII in 1902. It was addressed to the bishops of the world reviewing the twenty five years of his pontificate. It also urged resistance to', 'Marko Milošević (Марко Милошевић; born 7 February 1991) is a Serbian footballer, who plays as a goalkeeper for FC', 'The Lößnitzbach  is a river of Saxony, Germany. It is a right tributary of the Elbe, which it joins in', 'Mustjõe (Estonian for \"Black River\") is a subdistrict (asum) in the district of Haabersti, Tallinn, the capital of Estonia. It has a population of', 'Mary P. Ryan is an American historian, and John Martin Vincent Professor of History at the Johns Hopkins University in Baltimore, Maryland. She is also Margaret Byrne Professor Emeritus of History, University of California,', 'Dolores Gordon-Smith (born 1958) is a British novelist. She is best known for writing The Jack Haldean murder mysteries, the first of which, A Fête Worse than Death was published in 2007. Set in England in the 1920s, there are currently nine books in the series. She has also written a stand-alone', 'Hans Jørgen Toming (né Esbensen; 9 June 1933 – 15 November 2002) was a Danish-born Norwegian visual artist and book', \"The Oriental Club in London is an exclusive gentlemen's club established in 1824 that also admits ladies since 1952, although ladies could not be full members until 2010. Charles Graves describes it as fine in quality as White's but with the space of infinitely larger clubs. It is located in\", 'Jerez is a town and municipality in the Mexican state of Zacatecas. To distinguish the two, the town is officially called Jerez de García Salinas to honor a 19th-century reformer. The town of Jerez is the local government of 128 other communities, a rural area noted for its production of fruit', 'Mulwewa was a mission founded by White Fathers missionaries on the west side of Lake Tanganyika, in what is now the Democratic Republic of the Congo. It is at Massanze, near', 'Emeril is an unincorporated community in the Canadian province of Newfoundland and']\n",
      "Temperature: 1.5, Split: valid, Prompt Type: empty_prompt, Overlap: 0.22532894736842105 Bleu Score: 0.0\n"
     ]
    }
   ],
   "source": [
    "metrics = []\n",
    "for temp in results_generation.keys():\n",
    "    for split in results_generation[temp].keys():\n",
    "        for prompt_type in results_generation[temp][split].keys():\n",
    "            generated_sequences = results_generation[temp][split][prompt_type]['seq']\n",
    "            if prompt_type == 'empty_prompt':\n",
    "                gt_passage = train_passage if split == 'train' else valid_passage\n",
    "                overlap = word_overlap(gt_passage, generated_sequences)\n",
    "                bleu_score = get_bleu_score(gt_passage, generated_sequences)\n",
    "            elif prompt_type == 'word_prompt':\n",
    "                gt_passage = train_passage if split == 'train' else valid_passage\n",
    "                gt_passage = [' '.join(text.split(' ')[1:]) for text in gt_passage]\n",
    "                overlap = word_overlap(gt_passage, generated_sequences)\n",
    "                bleu_score = get_bleu_score(gt_passage, generated_sequences)\n",
    "   \n",
    "            print(f'Temperature: {temp}, Split: {split}, Prompt Type: {prompt_type}, Overlap: {overlap}', 'Bleu Score:', bleu_score)\n",
    "            metrics.append({'temp': temp, 'split': split, 'prompt_type': prompt_type, 'overlap': overlap, 'bleu_score': bleu_score})\n",
    "            \n",
    "with open(f'{ckpt_path}/results_generation.json', 'w') as f:\n",
    "    json.dump(metrics, f)"
   ]
  },
  {
   "cell_type": "markdown",
   "metadata": {},
   "source": [
    "## Old"
   ]
  },
  {
   "cell_type": "code",
   "execution_count": null,
   "metadata": {},
   "outputs": [],
   "source": [
    "llm_path = '/lustre/scwpod02/client/kyutai-interns/hippop/models/mistral_7B'\n",
    "#Must have a params json for pipeline\n",
    "\n",
    "# No embeddings:\n",
    "# ckpt_path = '/lustre/scwpod02/client/kyutai-interns/hippop/tmp/no_embed_bs16_lr5e-5Mistral7B88d0b42410aa4ec12025/checkpoints/checkpoint_002500'\n",
    "\n",
    "# Length tokens:\n",
    "# ckpt_path = '/lustre/scwpod02/client/kyutai-interns/hippop/tmp/SL_512t_Mistral7B20ed0018b2a84fba09c4/checkpoints/checkpoint_005000'\n",
    "# ckpt_path = '/lustre/scwpod02/client/kyutai-interns/hippop/tmp/SL_256t_Mistral7Be9ffc00fa42bedbc50d0/checkpoints/checkpoint_010000'\n",
    "# ckpt_path = '/lustre/scwpod02/client/kyutai-interns/hippop/tmp/SL_128t_Mistral7B226729d875c65b331ef8/checkpoints/checkpoint_010000'\n",
    "# ckpt_path = '/lustre/scwpod02/client/kyutai-interns/hippop/tmp/SL_64t_Mistral7B9bbea1b3b8dc23079b04/checkpoints/checkpoint_010000'\n",
    "# ckpt_path = '/lustre/scwpod02/client/kyutai-interns/hippop/tmp/SL_32t_Mistral7Bccbc3f29d69bd124c6cf/checkpoints/checkpoint_010000'\n",
    "# ckpt_path = '/lustre/scwpod02/client/kyutai-interns/hippop/tmp/SL_16t_Mistral7B7bc7dcc2ba28873eda96/checkpoints/checkpoint_010000'\n",
    "# ckpt_path = '/lustre/scwpod02/client/kyutai-interns/hippop/tmp/mean_not_causal/checkpoints/checkpoint_007500'\n",
    "\n",
    "\n",
    "# # Continuation:\n",
    "# ckpt_path = '/lustre/scwpod02/client/kyutai-interns/hippop/tmp/continuation_Mistral7B20ed0018b2a84fba09c4/checkpoints/checkpoint_006000'\n",
    "# ckpt_path = '/lustre/scwpod02/client/kyutai-interns/hippop/tmp/mean_finetuned_notcausal_continuationMistral7B20ed0018b2a84fba09c4/checkpoints/checkpoint_005500'\n",
    "\n",
    "# # Cross-Attention:\n",
    "# ckpt_path = '/lustre/scwpod02/client/kyutai-interns/hippop/tmp/cross_att_5_last_layersMistral7Bdbbb7faebb2f32cf20e9/checkpoints/checkpoint_010000'\n",
    "# ckpt_path = '/lustre/scwpod02/client/kyutai-interns/hippop/tmp/cross_att_fine_tuned_embedder_5_last_layersMistral7Bdbbb7faebb2f32cf20e9/checkpoints/checkpoint_007500'\n",
    "# ckpt_path = '/lustre/scwpod02/client/kyutai-interns/hippop/tmp/cross_att_finetuned_notcausal_continuationMistral7B20ed0018b2a84fba09c4/checkpoints/checkpoint_005000'\n",
    "# ckpt_path = '/lustre/scwpod02/client/kyutai-interns/hippop/tmp/cross_att_pretrained_continuationMistral7B20ed0018b2a84fba09c4/checkpoints/checkpoint_008500'\n",
    "\n",
    "with open(f'{ckpt_path}/params.json') as f:\n",
    "    params = json.load(f)\n",
    "print(params)\n",
    "\n",
    "model_name = 'Mistral7B' # Mistral7B, Llama3.2-3B, Gemma7B\n",
    "device = 'cuda' if torch.cuda.is_available() else 'cpu'\n",
    "w_embeds = True\n",
    "max_batch_size = 4\n",
    "\n",
    "# variant = '7b' if model_name == 'Gemma7B' else None"
   ]
  },
  {
   "cell_type": "markdown",
   "metadata": {},
   "source": [
    "### Modify old params"
   ]
  },
  {
   "cell_type": "code",
   "execution_count": 9,
   "metadata": {},
   "outputs": [
    {
     "name": "stdout",
     "output_type": "stream",
     "text": [
      "{'w_embeds': True, 'norm_wo_embeds': False, 'mlp_project': {'hidden_dim': 4096, 'n_layers': 3, 'act': 'gelu', 'in_dim': 4096, 'out_dim': 4096}, 'training': True, 'param_dtype': 'float32', 'trainable_embedder': True, 'causal': False, 'pooling_module': {'type': 'mean', 'r': 512, 'n_heads': 8, 'n_layers': 1}, 'continuation': True, 'cross_att': True, 'do_pool': False, 'n_truncated_layers': 4, 'normalize_embeddings': True, 'cross_att_layers': 5}\n",
      "here\n"
     ]
    },
    {
     "ename": "KeyError",
     "evalue": "'start_cross_att'",
     "output_type": "error",
     "traceback": [
      "\u001b[0;31m---------------------------------------------------------------------------\u001b[0m",
      "\u001b[0;31mKeyError\u001b[0m                                  Traceback (most recent call last)",
      "Cell \u001b[0;32mIn[9], line 13\u001b[0m\n\u001b[1;32m     11\u001b[0m \u001b[38;5;28mprint\u001b[39m(\u001b[38;5;124m'\u001b[39m\u001b[38;5;124mhere\u001b[39m\u001b[38;5;124m'\u001b[39m)\n\u001b[1;32m     12\u001b[0m params[\u001b[38;5;124m'\u001b[39m\u001b[38;5;124mnormalize_embeddings\u001b[39m\u001b[38;5;124m'\u001b[39m] \u001b[38;5;241m=\u001b[39m \u001b[38;5;28;01mTrue\u001b[39;00m \u001b[38;5;28;01mif\u001b[39;00m params[\u001b[38;5;124m'\u001b[39m\u001b[38;5;124mcross_att\u001b[39m\u001b[38;5;124m'\u001b[39m] \u001b[38;5;28;01melse\u001b[39;00m \u001b[38;5;28;01mFalse\u001b[39;00m\n\u001b[0;32m---> 13\u001b[0m \u001b[38;5;28;01mif\u001b[39;00m \u001b[43mparams\u001b[49m\u001b[43m[\u001b[49m\u001b[38;5;124;43m'\u001b[39;49m\u001b[38;5;124;43mstart_cross_att\u001b[39;49m\u001b[38;5;124;43m'\u001b[39;49m\u001b[43m]\u001b[49m \u001b[38;5;129;01mis\u001b[39;00m \u001b[38;5;28;01mNone\u001b[39;00m:\n\u001b[1;32m     14\u001b[0m     \u001b[38;5;28;01mdel\u001b[39;00m params[\u001b[38;5;124m'\u001b[39m\u001b[38;5;124mstart_cross_att\u001b[39m\u001b[38;5;124m'\u001b[39m]\n\u001b[1;32m     15\u001b[0m \u001b[38;5;28;01melse\u001b[39;00m:\n",
      "\u001b[0;31mKeyError\u001b[0m: 'start_cross_att'"
     ]
    }
   ],
   "source": [
    "with open(ckpt_path + '/params.json') as f:\n",
    "    params = json.load(f)\n",
    "print(params)\n",
    "# if 'do_pool'  not in params.keys():\n",
    "if 'n_truncated_layers' in params['pooling_module'].keys():\n",
    "    params['n_truncated_layers'] = params['pooling_module']['n_truncated_layers']\n",
    "    del params['pooling_module']['n_truncated_layers']\n",
    "    \n",
    "\n",
    "if params['cross_att'] is not None:\n",
    "    print('here')\n",
    "    params['normalize_embeddings'] = True if params['cross_att'] else False\n",
    "    if params['start_cross_att'] is None:\n",
    "        del params['start_cross_att']\n",
    "    else:\n",
    "        params['cross_att_layers'] = 32 - params[\"start_cross_att\"]\n",
    "        del params['start_cross_att']\n",
    "    params['do_pool'] = False if params['cross_att'] else True\n",
    "else:\n",
    "    params['do_pool'] = True\n",
    "print(params)\n",
    "with open(ckpt_path + '/params.json', 'w') as f:\n",
    "    json.dump(params, f)\n",
    "\n",
    "        \n"
   ]
  },
  {
   "cell_type": "markdown",
   "metadata": {},
   "source": [
    "### Reconstruction"
   ]
  },
  {
   "cell_type": "code",
   "execution_count": 9,
   "metadata": {},
   "outputs": [
    {
     "name": "stdout",
     "output_type": "stream",
     "text": [
      "Param: {'w_embeds': True, 'temperature': 0}\n",
      "Prompt The  | Passage The Roman Republic (Repubblica Romana) was a sister republic of the First French Republic. It was pr\n",
      "Valid  word ['Roman Republic (Repubblica) was a short-lian state, a republican state, was a short-republican state, was a republican state, was a republican state, was a republican state, was a republican republic, was a republican republic, was a republican republic, was a republican republic, was a republican republic, was a republican republic, was a republican republic, was a republican republic, was a republican republic, republic, republic, republic, republic, republic republic, republic, republic republic, republic republic, republic republic, republic republic, republic republic, republic, republic republic republic, republic, republic republic, republic, republic, republic republic, republic, republic, republic, republic, republic, republic, republic, republic, republic, republic, republic, republic, republic, republic, republic, the Republic, republic, republic, republic, republic, republic, republic, republic, the Republic,, republic']\n",
      "Valid  empty ['The Roman Republic (Republica) was a short-lian state, established in 28 BC, was a short-lian state, established in 28 BC, was a short-Roman Republic, established in 28 BC, was a short-Roman Republic, established in 28 BC, was a republican state, established in 28 BC, was a republican state, established in 28 BC, was a republican state, established in the Republic in the Republic, Republic, Republic, Republic, Republic, Republic, Republic, Republic, Republic, Republic, Republic, the Republic, Republic, Republic, Republic, Republic, Republic, Republic, Republic, Republic, Republic, Republic, Republic, Republic, Republic, Republic, Republic, Republic, Republic, Republic, Republic, Republic, Republic, Republic, Republic, Republic, Republic, Republic, Republic, Republic, Republic, Republic, Republic, Republic, Republic, Republic, Republic']\n",
      "Prompt Cochamó  | Passage Cochamó is a Chilean town and commune located in Llanquihue Province, Los Lagos Region. The capital \n",
      "Train word ['is administered by the commune council, which is part of the province of Los Lagos region.']\n",
      "Train empty ['The population is 1, which is the capital of the commune.\\n\\n\\n\\n\\n\\n\\n\\n\\n\\n\\n\\n\\n\\n\\n\\n\\n\\n\\n\\n\\n\\n\\n\\n\\n\\n\\n\\n\\n\\n\\n\\n\\n\\n\\n\\n\\n\\n\\n\\nCho\\nCho\\nCho\\nCho\\nCho\\nCho\\nCho\\nCho\\nCho\\nCho\\nCho\\nCho\\nCho\\nCho\\nCho\\nChoCho\\nCho\\nCho\\nChoChoChochochochochochochochochochochochochochochocho.cho.o Chocho.o Cham.o Cham.o Cham.. Chocho.. Cho.........................................']\n",
      "Param: {'w_embeds': True, 'temperature': 0.7}\n",
      "Prompt The  | Passage The Roman Republic (Repubblica Romana) was a sister republic of the First French Republic. It was pr\n",
      "Valid  word ['Roman Republic was the first modern republic, a provisory (Latin: Res Publica) was the first modern republic, established in 150 BC, was a short-lasting from 153 BC. It was established in 150 BC. The first modern republic was established in 153 BC. It was the first modern republic, established in 150 BC. It was established in 150 BC. The republic was established in 177 the18171817) and the first republic of Rome in the Republic to the the to Republic, of republic the Republic was. that Republic was of Roman, to Republic the of the Republic of the the Republic the Rome was to.- Roman republican, in the Republic. to was that was the Republic of the- Republic, and the Roman Republic of the first republic and had. of Romanic, the Republic of the the,- the-']\n"
     ]
    },
    {
     "ename": "KeyboardInterrupt",
     "evalue": "",
     "output_type": "error",
     "traceback": [
      "\u001b[0;31m---------------------------------------------------------------------------\u001b[0m",
      "\u001b[0;31mKeyboardInterrupt\u001b[0m                         Traceback (most recent call last)",
      "Cell \u001b[0;32mIn[9], line 20\u001b[0m\n\u001b[1;32m     18\u001b[0m final_valid_prompts \u001b[38;5;241m=\u001b[39m [\u001b[38;5;124m'\u001b[39m\u001b[38;5;124m'\u001b[39m \u001b[38;5;28;01mfor\u001b[39;00m passage \u001b[38;5;129;01min\u001b[39;00m train_passage][\u001b[38;5;241m1\u001b[39m]\n\u001b[1;32m     19\u001b[0m text_valid_conditioning \u001b[38;5;241m=\u001b[39m [passage[:\u001b[38;5;241m100\u001b[39m] \u001b[38;5;28;01mfor\u001b[39;00m passage \u001b[38;5;129;01min\u001b[39;00m valid_passage][\u001b[38;5;241m2\u001b[39m]\n\u001b[0;32m---> 20\u001b[0m generated_sequence \u001b[38;5;241m=\u001b[39m \u001b[43mpipeline\u001b[49m\u001b[38;5;241;43m.\u001b[39;49m\u001b[43mgenerate\u001b[49m\u001b[43m(\u001b[49m\u001b[43mprompts\u001b[49m\u001b[43m \u001b[49m\u001b[38;5;241;43m=\u001b[39;49m\u001b[43m \u001b[49m\u001b[43mfinal_valid_prompts\u001b[49m\u001b[43m,\u001b[49m\u001b[43m \u001b[49m\n\u001b[1;32m     21\u001b[0m \u001b[43m                                    \u001b[49m\u001b[43mtext_conditioning\u001b[49m\u001b[43m \u001b[49m\u001b[38;5;241;43m=\u001b[39;49m\u001b[43m \u001b[49m\u001b[43mtext_valid_conditioning\u001b[49m\u001b[43m,\u001b[49m\u001b[43m \u001b[49m\n\u001b[1;32m     22\u001b[0m \u001b[43m                                    \u001b[49m\u001b[43mtemperature\u001b[49m\u001b[43m \u001b[49m\u001b[38;5;241;43m=\u001b[39;49m\u001b[43m \u001b[49m\u001b[43mparam\u001b[49m\u001b[43m[\u001b[49m\u001b[38;5;124;43m'\u001b[39;49m\u001b[38;5;124;43mtemperature\u001b[39;49m\u001b[38;5;124;43m'\u001b[39;49m\u001b[43m]\u001b[49m\u001b[43m,\u001b[49m\u001b[43m \u001b[49m\n\u001b[1;32m     23\u001b[0m \u001b[43m                                    \u001b[49m\u001b[43mmax_tokens\u001b[49m\u001b[43m \u001b[49m\u001b[38;5;241;43m=\u001b[39;49m\u001b[43m \u001b[49m\u001b[43mmax_tokens\u001b[49m\u001b[43m,\u001b[49m\n\u001b[1;32m     24\u001b[0m \u001b[43m                                    \u001b[49m\u001b[43mtruncate_double_space\u001b[49m\u001b[43m \u001b[49m\u001b[38;5;241;43m=\u001b[39;49m\u001b[43m \u001b[49m\u001b[38;5;28;43;01mFalse\u001b[39;49;00m\u001b[43m)\u001b[49m\n\u001b[1;32m     25\u001b[0m \u001b[38;5;28mprint\u001b[39m(\u001b[38;5;124m'\u001b[39m\u001b[38;5;124mValid  empty\u001b[39m\u001b[38;5;124m'\u001b[39m, generated_sequence)\n\u001b[1;32m     27\u001b[0m final_train_prompts \u001b[38;5;241m=\u001b[39m  [passage\u001b[38;5;241m.\u001b[39msplit(\u001b[38;5;124m'\u001b[39m\u001b[38;5;124m \u001b[39m\u001b[38;5;124m'\u001b[39m)[\u001b[38;5;241m0\u001b[39m] \u001b[38;5;28;01mfor\u001b[39;00m passage \u001b[38;5;129;01min\u001b[39;00m train_passage][\u001b[38;5;241m1\u001b[39m] \n",
      "File \u001b[0;32m~/micromamba/envs/llm_embed/lib/python3.10/site-packages/torch/utils/_contextlib.py:115\u001b[0m, in \u001b[0;36mcontext_decorator.<locals>.decorate_context\u001b[0;34m(*args, **kwargs)\u001b[0m\n\u001b[1;32m    112\u001b[0m \u001b[38;5;129m@functools\u001b[39m\u001b[38;5;241m.\u001b[39mwraps(func)\n\u001b[1;32m    113\u001b[0m \u001b[38;5;28;01mdef\u001b[39;00m \u001b[38;5;21mdecorate_context\u001b[39m(\u001b[38;5;241m*\u001b[39margs, \u001b[38;5;241m*\u001b[39m\u001b[38;5;241m*\u001b[39mkwargs):\n\u001b[1;32m    114\u001b[0m     \u001b[38;5;28;01mwith\u001b[39;00m ctx_factory():\n\u001b[0;32m--> 115\u001b[0m         \u001b[38;5;28;01mreturn\u001b[39;00m \u001b[43mfunc\u001b[49m\u001b[43m(\u001b[49m\u001b[38;5;241;43m*\u001b[39;49m\u001b[43margs\u001b[49m\u001b[43m,\u001b[49m\u001b[43m \u001b[49m\u001b[38;5;241;43m*\u001b[39;49m\u001b[38;5;241;43m*\u001b[39;49m\u001b[43mkwargs\u001b[49m\u001b[43m)\u001b[49m\n",
      "File \u001b[0;32m~/code/embed_llm/embed_llm/models/augmented_model.py:594\u001b[0m, in \u001b[0;36mEmbedAugPipeline.generate_mistral\u001b[0;34m(self, prompts, text_conditioning, device, max_tokens, temperature, truncate_double_space)\u001b[0m\n\u001b[1;32m    590\u001b[0m encoded_prompts \u001b[38;5;241m=\u001b[39m [\n\u001b[1;32m    591\u001b[0m     \u001b[38;5;28mself\u001b[39m\u001b[38;5;241m.\u001b[39mtokenizer\u001b[38;5;241m.\u001b[39mencode(prompt, bos\u001b[38;5;241m=\u001b[39m\u001b[38;5;28;01mTrue\u001b[39;00m, eos\u001b[38;5;241m=\u001b[39m\u001b[38;5;28;01mFalse\u001b[39;00m) \u001b[38;5;28;01mfor\u001b[39;00m prompt \u001b[38;5;129;01min\u001b[39;00m prompts\n\u001b[1;32m    592\u001b[0m ]\n\u001b[1;32m    593\u001b[0m eos_id \u001b[38;5;241m=\u001b[39m \u001b[38;5;28mself\u001b[39m\u001b[38;5;241m.\u001b[39mtokenizer\u001b[38;5;241m.\u001b[39meos_id\n\u001b[0;32m--> 594\u001b[0m generated_tokens, logprobs \u001b[38;5;241m=\u001b[39m \u001b[43mmistral_generate\u001b[49m\u001b[43m(\u001b[49m\n\u001b[1;32m    595\u001b[0m \u001b[43m    \u001b[49m\u001b[43mencoded_prompts\u001b[49m\u001b[38;5;241;43m=\u001b[39;49m\u001b[43mencoded_prompts\u001b[49m\u001b[43m,\u001b[49m\n\u001b[1;32m    596\u001b[0m \u001b[43m    \u001b[49m\u001b[43membeddings\u001b[49m\u001b[38;5;241;43m=\u001b[39;49m\u001b[43membeddings\u001b[49m\u001b[43m,\u001b[49m\n\u001b[1;32m    597\u001b[0m \u001b[43m    \u001b[49m\u001b[43mmodel\u001b[49m\u001b[38;5;241;43m=\u001b[39;49m\u001b[38;5;28;43mself\u001b[39;49m\u001b[38;5;241;43m.\u001b[39;49m\u001b[43mmodel\u001b[49m\u001b[38;5;241;43m.\u001b[39;49m\u001b[43mllm\u001b[49m\u001b[43m,\u001b[49m\n\u001b[1;32m    598\u001b[0m \u001b[43m    \u001b[49m\u001b[43mmax_tokens\u001b[49m\u001b[38;5;241;43m=\u001b[39;49m\u001b[43mmax_tokens\u001b[49m\u001b[43m,\u001b[49m\n\u001b[1;32m    599\u001b[0m \u001b[43m    \u001b[49m\u001b[43mtemperature\u001b[49m\u001b[38;5;241;43m=\u001b[39;49m\u001b[43mtemperature\u001b[49m\u001b[43m,\u001b[49m\n\u001b[1;32m    600\u001b[0m \u001b[43m    \u001b[49m\u001b[43mchunk_size\u001b[49m\u001b[38;5;241;43m=\u001b[39;49m\u001b[38;5;28;43;01mNone\u001b[39;49;00m\u001b[43m,\u001b[49m\n\u001b[1;32m    601\u001b[0m \u001b[43m    \u001b[49m\u001b[43meos_id\u001b[49m\u001b[38;5;241;43m=\u001b[39;49m\u001b[43meos_id\u001b[49m\u001b[43m,\u001b[49m\n\u001b[1;32m    602\u001b[0m \u001b[43m    \u001b[49m\u001b[43mkv_seqlens\u001b[49m\u001b[38;5;241;43m=\u001b[39;49m\u001b[38;5;28;43;01mNone\u001b[39;49;00m\u001b[43m \u001b[49m\u001b[38;5;28;43;01mif\u001b[39;49;00m\u001b[43m \u001b[49m\u001b[38;5;129;43;01mnot\u001b[39;49;00m\u001b[43m \u001b[49m\u001b[38;5;28;43mself\u001b[39;49m\u001b[38;5;241;43m.\u001b[39;49m\u001b[43mpipeline_args\u001b[49m\u001b[38;5;241;43m.\u001b[39;49m\u001b[43mcross_att\u001b[49m\u001b[43m \u001b[49m\u001b[38;5;28;43;01melse\u001b[39;49;00m\u001b[43m \u001b[49m\u001b[43mkv_seqlens\u001b[49m\u001b[43m,\u001b[49m\n\u001b[1;32m    603\u001b[0m \u001b[43m    \u001b[49m\u001b[43mnorm_wo_embeds\u001b[49m\u001b[38;5;241;43m=\u001b[39;49m\u001b[38;5;28;43mself\u001b[39;49m\u001b[38;5;241;43m.\u001b[39;49m\u001b[43mpipeline_args\u001b[49m\u001b[38;5;241;43m.\u001b[39;49m\u001b[43mnorm_wo_embeds\u001b[49m\u001b[43m,\u001b[49m\n\u001b[1;32m    604\u001b[0m \u001b[43m\u001b[49m\u001b[43m)\u001b[49m\n\u001b[1;32m    605\u001b[0m produced_text \u001b[38;5;241m=\u001b[39m [\n\u001b[1;32m    606\u001b[0m     \u001b[38;5;28mself\u001b[39m\u001b[38;5;241m.\u001b[39mtokenizer\u001b[38;5;241m.\u001b[39mdecode(generated_tokens[i])\n\u001b[1;32m    607\u001b[0m     \u001b[38;5;28;01mfor\u001b[39;00m i \u001b[38;5;129;01min\u001b[39;00m \u001b[38;5;28mrange\u001b[39m(\u001b[38;5;28mlen\u001b[39m(generated_tokens))\n\u001b[1;32m    608\u001b[0m ]\n\u001b[1;32m    610\u001b[0m \u001b[38;5;28;01mif\u001b[39;00m truncate_double_space:\n",
      "File \u001b[0;32m~/micromamba/envs/llm_embed/lib/python3.10/site-packages/torch/utils/_contextlib.py:115\u001b[0m, in \u001b[0;36mcontext_decorator.<locals>.decorate_context\u001b[0;34m(*args, **kwargs)\u001b[0m\n\u001b[1;32m    112\u001b[0m \u001b[38;5;129m@functools\u001b[39m\u001b[38;5;241m.\u001b[39mwraps(func)\n\u001b[1;32m    113\u001b[0m \u001b[38;5;28;01mdef\u001b[39;00m \u001b[38;5;21mdecorate_context\u001b[39m(\u001b[38;5;241m*\u001b[39margs, \u001b[38;5;241m*\u001b[39m\u001b[38;5;241m*\u001b[39mkwargs):\n\u001b[1;32m    114\u001b[0m     \u001b[38;5;28;01mwith\u001b[39;00m ctx_factory():\n\u001b[0;32m--> 115\u001b[0m         \u001b[38;5;28;01mreturn\u001b[39;00m \u001b[43mfunc\u001b[49m\u001b[43m(\u001b[49m\u001b[38;5;241;43m*\u001b[39;49m\u001b[43margs\u001b[49m\u001b[43m,\u001b[49m\u001b[43m \u001b[49m\u001b[38;5;241;43m*\u001b[39;49m\u001b[38;5;241;43m*\u001b[39;49m\u001b[43mkwargs\u001b[49m\u001b[43m)\u001b[49m\n",
      "File \u001b[0;32m~/code/embed_llm/embed_llm/models/mistral/generate.py:137\u001b[0m, in \u001b[0;36mgenerate\u001b[0;34m(encoded_prompts, model, max_tokens, temperature, embeddings, chunk_size, eos_id, norm_wo_embeds, kv_seqlens)\u001b[0m\n\u001b[1;32m    134\u001b[0m generated_tensors\u001b[38;5;241m.\u001b[39mappend(next_token[:, \u001b[38;5;28;01mNone\u001b[39;00m])\n\u001b[1;32m    136\u001b[0m \u001b[38;5;28;01mif\u001b[39;00m \u001b[38;5;28misinstance\u001b[39m(model, Transformer):\n\u001b[0;32m--> 137\u001b[0m     last_token_prelogits \u001b[38;5;241m=\u001b[39m \u001b[43mmodel\u001b[49m\u001b[38;5;241;43m.\u001b[39;49m\u001b[43mgenerate\u001b[49m\u001b[43m(\u001b[49m\n\u001b[1;32m    138\u001b[0m \u001b[43m        \u001b[49m\u001b[43mnext_token\u001b[49m\u001b[43m,\u001b[49m\n\u001b[1;32m    139\u001b[0m \u001b[43m        \u001b[49m\u001b[43mseqlens\u001b[49m\u001b[38;5;241;43m=\u001b[39;49m\u001b[43m[\u001b[49m\u001b[38;5;241;43m1\u001b[39;49m\u001b[43m]\u001b[49m\u001b[43m \u001b[49m\u001b[38;5;241;43m*\u001b[39;49m\u001b[43m \u001b[49m\u001b[43mB\u001b[49m\u001b[43m,\u001b[49m\n\u001b[1;32m    140\u001b[0m \u001b[43m        \u001b[49m\u001b[43membeddings\u001b[49m\u001b[38;5;241;43m=\u001b[39;49m\u001b[43membeddings\u001b[49m\u001b[43m,\u001b[49m\n\u001b[1;32m    141\u001b[0m \u001b[43m        \u001b[49m\u001b[43mcache\u001b[49m\u001b[38;5;241;43m=\u001b[39;49m\u001b[43mcache\u001b[49m\u001b[43m,\u001b[49m\n\u001b[1;32m    142\u001b[0m \u001b[43m        \u001b[49m\u001b[43mnorm_wo_embeds\u001b[49m\u001b[38;5;241;43m=\u001b[39;49m\u001b[43mnorm_wo_embeds\u001b[49m\u001b[43m,\u001b[49m\n\u001b[1;32m    143\u001b[0m \u001b[43m    \u001b[49m\u001b[43m)\u001b[49m\n\u001b[1;32m    144\u001b[0m \u001b[38;5;28;01melif\u001b[39;00m \u001b[38;5;28misinstance\u001b[39m(model, CrossAttTransformer):\n\u001b[1;32m    145\u001b[0m     last_token_prelogits \u001b[38;5;241m=\u001b[39m model\u001b[38;5;241m.\u001b[39mgenerate(\n\u001b[1;32m    146\u001b[0m         next_token,\n\u001b[1;32m    147\u001b[0m         seqlens\u001b[38;5;241m=\u001b[39m[\u001b[38;5;241m1\u001b[39m] \u001b[38;5;241m*\u001b[39m B,\n\u001b[0;32m   (...)\u001b[0m\n\u001b[1;32m    150\u001b[0m         cache\u001b[38;5;241m=\u001b[39mcache,\n\u001b[1;32m    151\u001b[0m     )\n",
      "File \u001b[0;32m~/code/embed_llm/embed_llm/models/mistral/transformer.py:327\u001b[0m, in \u001b[0;36mTransformer.generate\u001b[0;34m(self, input_ids, seqlens, embeddings, cache, norm_wo_embeds)\u001b[0m\n\u001b[1;32m    318\u001b[0m \u001b[38;5;28;01mdef\u001b[39;00m \u001b[38;5;21mgenerate\u001b[39m(\n\u001b[1;32m    319\u001b[0m     \u001b[38;5;28mself\u001b[39m,\n\u001b[1;32m    320\u001b[0m     input_ids: torch\u001b[38;5;241m.\u001b[39mTensor,\n\u001b[0;32m   (...)\u001b[0m\n\u001b[1;32m    325\u001b[0m     \u001b[38;5;66;03m# images: list[torch.Tensor | None,\u001b[39;00m\n\u001b[1;32m    326\u001b[0m ) \u001b[38;5;241m-\u001b[39m\u001b[38;5;241m>\u001b[39m torch\u001b[38;5;241m.\u001b[39mTensor:\n\u001b[0;32m--> 327\u001b[0m     h \u001b[38;5;241m=\u001b[39m \u001b[38;5;28;43mself\u001b[39;49m\u001b[38;5;241;43m.\u001b[39;49m\u001b[43mgenerate_partial\u001b[49m\u001b[43m(\u001b[49m\n\u001b[1;32m    328\u001b[0m \u001b[43m        \u001b[49m\u001b[43minput_ids\u001b[49m\u001b[43m,\u001b[49m\n\u001b[1;32m    329\u001b[0m \u001b[43m        \u001b[49m\u001b[43mseqlens\u001b[49m\u001b[43m,\u001b[49m\n\u001b[1;32m    330\u001b[0m \u001b[43m        \u001b[49m\u001b[43membeddings\u001b[49m\u001b[38;5;241;43m=\u001b[39;49m\u001b[43membeddings\u001b[49m\u001b[43m,\u001b[49m\n\u001b[1;32m    331\u001b[0m \u001b[43m        \u001b[49m\u001b[43mcache\u001b[49m\u001b[38;5;241;43m=\u001b[39;49m\u001b[43mcache\u001b[49m\u001b[43m,\u001b[49m\n\u001b[1;32m    332\u001b[0m \u001b[43m        \u001b[49m\u001b[43mnorm_wo_embeds\u001b[49m\u001b[38;5;241;43m=\u001b[39;49m\u001b[43mnorm_wo_embeds\u001b[49m\u001b[43m,\u001b[49m\n\u001b[1;32m    333\u001b[0m \u001b[43m    \u001b[49m\u001b[43m)\u001b[49m  \u001b[38;5;66;03m# , images=images)\u001b[39;00m\n\u001b[1;32m    334\u001b[0m     \u001b[38;5;28;01mif\u001b[39;00m \u001b[38;5;28mself\u001b[39m\u001b[38;5;241m.\u001b[39mpipeline_rank \u001b[38;5;241m<\u001b[39m \u001b[38;5;28mself\u001b[39m\u001b[38;5;241m.\u001b[39mnum_pipeline_ranks \u001b[38;5;241m-\u001b[39m \u001b[38;5;241m1\u001b[39m:\n\u001b[1;32m    335\u001b[0m         \u001b[38;5;66;03m# ignore the intermediate activations as we'll get the final output from\u001b[39;00m\n\u001b[1;32m    336\u001b[0m         \u001b[38;5;66;03m# the last stage\u001b[39;00m\n\u001b[1;32m    337\u001b[0m         outs \u001b[38;5;241m=\u001b[39m torch\u001b[38;5;241m.\u001b[39mempty(\n\u001b[1;32m    338\u001b[0m             h\u001b[38;5;241m.\u001b[39mshape[\u001b[38;5;241m0\u001b[39m], \u001b[38;5;28mself\u001b[39m\u001b[38;5;241m.\u001b[39mvocab_size, device\u001b[38;5;241m=\u001b[39mh\u001b[38;5;241m.\u001b[39mdevice, dtype\u001b[38;5;241m=\u001b[39mh\u001b[38;5;241m.\u001b[39mdtype\n\u001b[1;32m    339\u001b[0m         )\n",
      "File \u001b[0;32m~/code/embed_llm/embed_llm/models/mistral/transformer.py:240\u001b[0m, in \u001b[0;36mTransformer.generate_partial\u001b[0;34m(self, input_ids, seqlens, embeddings, cache, norm_wo_embeds)\u001b[0m\n\u001b[1;32m    237\u001b[0m     seqlens \u001b[38;5;241m=\u001b[39m [size \u001b[38;5;241m+\u001b[39m \u001b[38;5;241m1\u001b[39m \u001b[38;5;28;01mfor\u001b[39;00m size \u001b[38;5;129;01min\u001b[39;00m seqlens]\n\u001b[1;32m    239\u001b[0m \u001b[38;5;28;01mif\u001b[39;00m cache \u001b[38;5;129;01mis\u001b[39;00m \u001b[38;5;129;01mnot\u001b[39;00m \u001b[38;5;28;01mNone\u001b[39;00m:\n\u001b[0;32m--> 240\u001b[0m     input_metadata \u001b[38;5;241m=\u001b[39m \u001b[43mcache\u001b[49m\u001b[38;5;241;43m.\u001b[39;49m\u001b[43mget_input_metadata\u001b[49m\u001b[43m(\u001b[49m\u001b[43mseqlens\u001b[49m\u001b[43m)\u001b[49m\n\u001b[1;32m    241\u001b[0m \u001b[38;5;28;01melse\u001b[39;00m:\n\u001b[1;32m    242\u001b[0m     input_metadata \u001b[38;5;241m=\u001b[39m [\n\u001b[1;32m    243\u001b[0m         SimpleInputMetadata\u001b[38;5;241m.\u001b[39mfrom_seqlens(seqlens, \u001b[38;5;28mself\u001b[39m\u001b[38;5;241m.\u001b[39mdevice)\n\u001b[1;32m    244\u001b[0m         \u001b[38;5;28;01mfor\u001b[39;00m _ \u001b[38;5;129;01min\u001b[39;00m \u001b[38;5;28mrange\u001b[39m(\u001b[38;5;28mlen\u001b[39m(\u001b[38;5;28mself\u001b[39m\u001b[38;5;241m.\u001b[39mlayers))\n\u001b[1;32m    245\u001b[0m     ]\n",
      "File \u001b[0;32m~/code/embed_llm/embed_llm/models/mistral/cache.py:271\u001b[0m, in \u001b[0;36mBufferCache.get_input_metadata\u001b[0;34m(self, seqlens)\u001b[0m\n\u001b[1;32m    268\u001b[0m \u001b[38;5;28;01massert\u001b[39;00m \u001b[38;5;28mlen\u001b[39m(seqlens) \u001b[38;5;241m>\u001b[39m \u001b[38;5;241m0\u001b[39m, seqlens\n\u001b[1;32m    270\u001b[0m \u001b[38;5;28;01mfor\u001b[39;00m cache_size \u001b[38;5;129;01min\u001b[39;00m \u001b[38;5;28mself\u001b[39m\u001b[38;5;241m.\u001b[39mcache_sizes:\n\u001b[0;32m--> 271\u001b[0m     metadata\u001b[38;5;241m.\u001b[39mappend(\u001b[38;5;28;43mself\u001b[39;49m\u001b[38;5;241;43m.\u001b[39;49m\u001b[43m_get_input_metadata_layer\u001b[49m\u001b[43m(\u001b[49m\u001b[43mcache_size\u001b[49m\u001b[43m,\u001b[49m\u001b[43m \u001b[49m\u001b[43mseqlens\u001b[49m\u001b[43m,\u001b[49m\u001b[43m \u001b[49m\u001b[43mseqpos\u001b[49m\u001b[43m)\u001b[49m)\n\u001b[1;32m    273\u001b[0m \u001b[38;5;28;01mreturn\u001b[39;00m metadata\n",
      "File \u001b[0;32m~/code/embed_llm/embed_llm/models/mistral/cache.py:320\u001b[0m, in \u001b[0;36mBufferCache._get_input_metadata_layer\u001b[0;34m(self, cache_size, seqlens, seqpos)\u001b[0m\n\u001b[1;32m    312\u001b[0m \u001b[38;5;28;01melse\u001b[39;00m:\n\u001b[1;32m    313\u001b[0m     mask \u001b[38;5;241m=\u001b[39m BlockDiagonalCausalWithOffsetPaddedKeysMask\u001b[38;5;241m.\u001b[39mfrom_seqlens(\n\u001b[1;32m    314\u001b[0m         q_seqlen\u001b[38;5;241m=\u001b[39mseqlens,\n\u001b[1;32m    315\u001b[0m         kv_padding\u001b[38;5;241m=\u001b[39mcache_size,\n\u001b[0;32m   (...)\u001b[0m\n\u001b[1;32m    318\u001b[0m         \u001b[38;5;241m.\u001b[39mtolist(),\n\u001b[1;32m    319\u001b[0m     )\n\u001b[0;32m--> 320\u001b[0m \u001b[38;5;28;01mreturn\u001b[39;00m \u001b[43mCacheInputMetadata\u001b[49m\u001b[43m(\u001b[49m\n\u001b[1;32m    321\u001b[0m \u001b[43m    \u001b[49m\u001b[43mpositions\u001b[49m\u001b[38;5;241;43m=\u001b[39;49m\u001b[43mpositions\u001b[49m\u001b[43m,\u001b[49m\n\u001b[1;32m    322\u001b[0m \u001b[43m    \u001b[49m\u001b[43mto_cache_mask\u001b[49m\u001b[38;5;241;43m=\u001b[39;49m\u001b[43mto_cache_mask\u001b[49m\u001b[43m,\u001b[49m\n\u001b[1;32m    323\u001b[0m \u001b[43m    \u001b[49m\u001b[43mcached_elements\u001b[49m\u001b[38;5;241;43m=\u001b[39;49m\u001b[43mcached_elements\u001b[49m\u001b[43m,\u001b[49m\n\u001b[1;32m    324\u001b[0m \u001b[43m    \u001b[49m\u001b[43mcache_positions\u001b[49m\u001b[38;5;241;43m=\u001b[39;49m\u001b[43mcache_positions\u001b[49m\u001b[43m[\u001b[49m\u001b[43mto_cache_mask\u001b[49m\u001b[43m]\u001b[49m\u001b[43m,\u001b[49m\n\u001b[1;32m    325\u001b[0m \u001b[43m    \u001b[49m\u001b[43mprefill\u001b[49m\u001b[38;5;241;43m=\u001b[39;49m\u001b[43mfirst_prefill\u001b[49m\u001b[43m \u001b[49m\u001b[38;5;129;43;01mor\u001b[39;49;00m\u001b[43m \u001b[49m\u001b[43msubsequent_prefill\u001b[49m\u001b[43m,\u001b[49m\n\u001b[1;32m    326\u001b[0m \u001b[43m    \u001b[49m\u001b[43mmask\u001b[49m\u001b[38;5;241;43m=\u001b[39;49m\u001b[43mmask\u001b[49m\u001b[43m,\u001b[49m\n\u001b[1;32m    327\u001b[0m \u001b[43m    \u001b[49m\u001b[43mseqlens\u001b[49m\u001b[38;5;241;43m=\u001b[39;49m\u001b[43mseqlens\u001b[49m\u001b[43m,\u001b[49m\n\u001b[1;32m    328\u001b[0m \u001b[43m\u001b[49m\u001b[43m)\u001b[49m\n",
      "File \u001b[0;32m<string>:2\u001b[0m, in \u001b[0;36m__init__\u001b[0;34m(self, positions, to_cache_mask, cached_elements, cache_positions, prefill, mask, seqlens)\u001b[0m\n",
      "\u001b[0;31mKeyboardInterrupt\u001b[0m: "
     ]
    }
   ],
   "source": [
    "for param in tests:\n",
    "    print('Param:', param)\n",
    "    if param['w_embeds']:\n",
    "        pipeline.pipeline_args.w_embeds = True\n",
    "    else:\n",
    "        pipeline.pipeline_args.w_embeds = False\n",
    "    \n",
    "    final_valid_prompts = [passage.split(' ')[0] for passage in valid_passage][2] \n",
    "    text_valid_conditioning = [passage[:100] for passage in valid_passage][2]\n",
    "    print('Prompt', final_valid_prompts, ' | Passage', text_valid_conditioning)\n",
    "    generated_sequence = pipeline.generate(prompts = final_valid_prompts, \n",
    "                                        text_conditioning = text_valid_conditioning, \n",
    "                                        temperature = param['temperature'], \n",
    "                                        max_tokens = max_tokens,\n",
    "                                        truncate_double_space = False)\n",
    "    print('Valid  word', generated_sequence)\n",
    "    \n",
    "    final_valid_prompts = ['' for passage in train_passage][1]\n",
    "    text_valid_conditioning = [passage[:100] for passage in valid_passage][2]\n",
    "    generated_sequence = pipeline.generate(prompts = final_valid_prompts, \n",
    "                                        text_conditioning = text_valid_conditioning, \n",
    "                                        temperature = param['temperature'], \n",
    "                                        max_tokens = max_tokens,\n",
    "                                        truncate_double_space = False)\n",
    "    print('Valid  empty', generated_sequence)\n",
    "\n",
    "    final_train_prompts =  [passage.split(' ')[0] for passage in train_passage][1] \n",
    "    text_train_conditioning = [passage[:100] for passage in train_passage][1]\n",
    "    print('Prompt', final_train_prompts, ' | Passage', text_train_conditioning)\n",
    "    generated_sequence = pipeline.generate(prompts = final_train_prompts, \n",
    "                                       text_conditioning = text_train_conditioning, \n",
    "                                       temperature = param['temperature'], \n",
    "                                       max_tokens = max_tokens,\n",
    "                                       truncate_double_space = False)\n",
    "    print('Train word', generated_sequence)\n",
    "    final_train_prompts = ['' for passage in train_passage][1] \n",
    "    text_train_conditioning = [passage[:100] for passage in train_passage][1]\n",
    "    generated_sequence = pipeline.generate(prompts = final_train_prompts, \n",
    "                                       text_conditioning = text_train_conditioning, \n",
    "                                       temperature = param['temperature'], \n",
    "                                       max_tokens = max_tokens,\n",
    "                                       truncate_double_space = False)\n",
    "    print('Train empty', generated_sequence)\n",
    "\n",
    "    "
   ]
  },
  {
   "cell_type": "code",
   "execution_count": null,
   "metadata": {},
   "outputs": [],
   "source": [
    "# 1 information in the doc which enables to answer the question but not good response often in-context\n",
    "# 2 information in the doc which enables to answer the question and good response often in-context\n",
    "# 3 Hard negative passage\n",
    "# 4 Same\n",
    "\n",
    "# prompt_prefix = \"Query: who wrote the song photograph by ringo starr\\nAnswer: Ringo Starr\\n\\nQuery: who is playing the halftime show at super bowl 2016\\nAnswer: Coldplay\\n\\nQuery: where was the world economic forum held this year\\nAnswer: Davos\\n\\nQuery: where are the giant redwoods located in california\\nAnswer: Humboldt County\\n\\nQuery: who has made the most premier league appearances\\nAnswer: Gareth Barry\\n\\nQuery: \"\n",
    "# prompts = ['who has most followers on instagram in world','who did the united states win its independence from', 'locations for the film an englishman who went up a hill', 'who is the valley of the dolls based on']\n",
    "# final_prompts = [prompt_prefix + prompt + '\\nAnswer:' for prompt in prompts]\n",
    "\n",
    "# text_conditioning = [\"This list contains the top 50 accounts with the most followers on the photo and video-sharing social platform Instagram. As of July 2019, the most followed user is Instagram's own account, with over 308 million followers. Cristiano Ronaldo is the most followed individual, with over 177 million followers. Fifteen accounts have exceeded 100 million followers on the site.\",\n",
    "#                      \"During the American Revolution, the legal separation of the thirteen colonies from Great Britain in 1776 actually occurred on July 2, when the Second Continental Congress voted to approve a resolution of independence that had been proposed in June by Richard Henry Lee of Virginia declaring the United States independent from Great Britain's rule. After voting for independence, Congress turned its attention to the Declaration of Independence, a statement explaining this decision, which had been prepared by a Committee of Five, with Thomas Jefferson as its principal author. Congress debated and revised the wording of the Declaration, finally approving it two days later on July 4. A day earlier, John Adams had written to his wife Abigail\",\n",
    "#                      'The village was a primary location for the making of the film \\\"The Englishman Who Went Up a Hill But Came Down a Mountain\\\", which starred Hugh Grant. The hilltop scenes were filmed on the Gyrn, the long hill that overlooks the village. It was also featured in \\\"Monk\\'s Hood\\\", an episode of \\\"The Cadfael Chronicles\\\"',\n",
    "#                      'Valley of the Dolls is the first novel by American writer Jacqueline Susann. Published in 1966, the book was the biggest selling novel of its year. To date, it has sold more than 31 million copies, making it one of the best-selling works in publishing history.']\n",
    "\n",
    "# answers = ['Instagram','Great Britain',\"Llansilin in Powys\",[\"Judy Garland\", \"Carole Landis\", \"Dean Martin\", \"Ethel Merman\"]]\n",
    "\n",
    "n_passages = 4\n",
    "eval_data = '/lustre/scwpod02/client/kyutai-interns/datasets/modular_finetuning/enwiki-20220120_valid.jsonl'\n",
    "train_data = '/lustre/scwpod02/client/kyutai-interns/datasets/modular_finetuning/enwiki-20220120_train.jsonl'\n",
    "train_passage = []\n",
    "valid_passage = []\n",
    "with open(train_data, 'r') as f:\n",
    "    for i, line in enumerate(f):\n",
    "        if i == n_passages:\n",
    "            break\n",
    "        train_passage.append(json.loads(line)['text'].split('\\n\\n')[1])\n",
    "        \n",
    "with open(eval_data, 'r') as f:\n",
    "    for i, line in enumerate(f):\n",
    "        if i == n_passages:\n",
    "            break\n",
    "        valid_passage.append(json.loads(line)['text'].split('\\n\\n')[1])\n",
    "        \n",
    "tests = [{'w_embeds': True, 'temperature': 0 },  {'w_embeds': True, 'temperature': 0.7 }, {'w_embeds': False, 'temperature': 0.7 }]\n",
    "# print('Train passage:', train_passage)\n",
    "# print('Valid passage:', valid_passage)"
   ]
  },
  {
   "cell_type": "code",
   "execution_count": null,
   "metadata": {},
   "outputs": [],
   "source": [
    "conditioning = ['Kyutai is a non-profit laboratory dedicated to open research in AI, founded in November 2023 by the iliad Group, CMA CGM and Schmidt Sciences. Launched with an initial team of six leading scientists, who have all worked with Big Tech labs in the USA, Kyutai continues to recruit at the highest level, and also offers internships to research Master’s degree students.']*4\n",
    "prompts = ['who are the founders of Kyutai?', 'when was Kyutai founded?', 'how many scientists were in the initial team?', 'what does Kyutai offer to research Master’s degree students?']\n",
    "if w_embeds:\n",
    "    pipeline.pipeline_args.w_embeds = True\n",
    "else:\n",
    "    pipeline.pipeline_args.w_embeds = False\n",
    "generated_sequence = pipeline.generate(prompts = prompts,\n",
    "                                      text_conditioning = conditioning,\n",
    "                                      temperature = 0.5, \n",
    "                                      max_tokens =200,\n",
    "                                      truncate_double_space = False)\n",
    "# random_flip, put the number of the token to flip. \n",
    "print(generated_sequence)\n",
    "\n",
    "if w_embeds:\n",
    "    pipeline.pipeline_args.w_embeds = True\n",
    "else:\n",
    "    pipeline.pipeline_args.w_embeds = False\n",
    "generated_sequence, logprobs = pipeline.generate(prompts = ['who has most followers on Instagram in world?'],\n",
    "                                      text_conditioning = [\"This list contains the top 50 accounts with the most followers on the photo and video-sharing social platform Instagram. As of July 2019, the most followed user is Instagram's own account, with over 308 million followers. Cristiano Ronaldo is the most followed individual, with over 177 million followers.\"],\n",
    "                                      temperature = 0.4, \n",
    "                                      max_tokens =200,\n",
    "                                      truncate_double_space = False)\n",
    "print(generated_sequence)\n"
   ]
  },
  {
   "cell_type": "markdown",
   "metadata": {},
   "source": [
    "### Continuation"
   ]
  },
  {
   "cell_type": "code",
   "execution_count": 7,
   "metadata": {},
   "outputs": [
    {
     "name": "stdout",
     "output_type": "stream",
     "text": [
      "Param: {'w_embeds': True, 'temperature': 0}\n",
      "Passage The Roman Republic (Repubblica Romana) was a sister republic of the First French Republic. It was pr  | Truth oclaimed on 18 February 1798 after Louis-Alexandre Berthier, a general of Napoleon, had occupied the\n",
      "Valid  word ['the first Roman Republic in 509 BC, and the first Roman Republic was established. The Roman Republic was a period of great expansion for Rome.']\n",
      "Valid  empty ['# 1910 in Romanian literature\\n\\nThis article presents a list of the literary events and publications of Romania in 1910.']\n",
      "Passage Cochamó is a Chilean town and commune located in Llanquihue Province, Los Lagos Region. The capital   | Truth of the commune is the town of Río Puelo, which is named after the Puelo River.\n",
      "Train word ['the province of Chile is located in the Coquimbo Region, in the Limarí Province, in the Ovalle commune.']\n",
      "Train empty ['# 1999 Chilean local elections\\n\\nThe **1999 Chilean local elections** were held on 19 December 1999.']\n",
      "Param: {'w_embeds': True, 'temperature': 0.7}\n",
      "Passage The Roman Republic (Repubblica Romana) was a sister republic of the First French Republic. It was pr  | Truth oclaimed on 18 February 1798 after Louis-Alexandre Berthier, a general of Napoleon, had occupied the\n",
      "Valid  word ['as the first modern Roman republic, the Roman Republic was a political system in ancient Rome that lasted for nearly 500 years, from 509 BC to 27 BC.']\n",
      "Valid  empty ['## Details\\n\\nThe Roman Republic was one of the most powerful states of the ancient world, and its influence can be seen in the legal systems of modern nations.']\n",
      "Passage Cochamó is a Chilean town and commune located in Llanquihue Province, Los Lagos Region. The capital   | Truth of the commune is the town of Río Puelo, which is named after the Puelo River.\n",
      "Train word ['Cochamó is located in the south of Chile, in the commune of Cochamó, province of Llanquihue, in the Los Lagos Region.']\n",
      "Train empty ['## The New York Times has published a profile of the Chilean town of La Ligua, which has been chosen to host the 2018 edition of the Cocamelon festival.']\n",
      "Param: {'w_embeds': False, 'temperature': 0.7}\n",
      "Passage The Roman Republic (Repubblica Romana) was a sister republic of the First French Republic. It was pr  | Truth oclaimed on 18 February 1798 after Louis-Alexandre Berthier, a general of Napoleon, had occupied the\n",
      "Valid  word ['\"the first and only truly successful mass-market, mass-produced sports car\", the Porsche 911 was introduced in 1963 as the Porsche 901. It was a thoroughly modern sports car, with a flat-six engine mounted behind the rear axle and a rear-mounted transaxle, a layout that was unusual for the time. The car was an instant success, and Porsche sold over 100,000 911s in its first decade of production.\\n\\nIn 1964, Porsche changed the name of the 901 to 911, to avoid a potential conflict with French car maker Peugeot, which had a trademark on the name \"00\". The 911 was available in coupe and targa body styles, and a convertible was added in 1982. The 9']\n",
      "Valid  empty [\"## Your one-stop shop for all your building needs\\n\\nThe company was founded in 1947 by George H. Hosseini. Today, his son, George H. Hosseini Jr., is the CEO.\\n\\nThe company started out as a small lumberyard in the heart of downtown Los Angeles. It was a family-owned business that focused on providing building materials for residential and commercial construction projects.\\n\\nThe company's first major project was the construction of the Los Angeles Memorial Coliseum. It was the first time that the company had worked on such a large project.\\n\\nOver the years, the company has grown and expanded. It now has 15 locations in Southern California and Nevada.\\n\\nThe company's headquarters are in downtown Los Angeles.\\n\\nProducts and services\\n\\nThe company provides a wide range of building materials and services.\\n\\nProducts: \\n - Lumber\\n - Ply\"]\n",
      "Passage Cochamó is a Chilean town and commune located in Llanquihue Province, Los Lagos Region. The capital   | Truth of the commune is the town of Río Puelo, which is named after the Puelo River.\n",
      "Train word [\"the year 2006.\\n\\nEarly life\\n\\nBorn in Gauteng, South Africa, he was educated at St. Stithians College. He was an all-rounder at the school and was selected to represent the school's 1st XI cricket team. He also represented the school's 1st XV rugby team. He was also a member of the school's athletics team.\\n\\nEarly career\\n\\nUpon leaving school, he studied at the University of Cape Town. He also played for the university's cricket team. He was a member of the 1st XI team which won the 1994–95 University Sports South African University Championship. He was also a member of the 1st XV rugby team.\\n\\nIn 1995, he moved to the United Kingdom. He played club cricket for the Kent Cricket Club. He also played for the club's\"]\n",
      "Train empty ['## Latest revision as of 16:47, 13 September 2012\\n\\nThe first documented use of the name \"Meadowbrook\" was in 1906, when it was used as the name of a planned subdivision in the northwest corner of the city. This name was used for the area for many years, but in 1922, the name \"Meadowbrook\" was officially adopted for the entire area.\\n\\nThe first major development in Meadowbrook was the construction of a streetcar line in 1908. The line was constructed by the Seattle and Lake Washington Railway and Navigation Company, which was the predecessor of the Seattle, Lake Washington and Northern Railway. The line ran from downtown Seattle along the north shore of Lake Washington to the area of Meadowbrook. It was originally named the \"Lake Washington Line\", but was later renamed']\n"
     ]
    }
   ],
   "source": [
    "# Continuation\n",
    "for param in tests:\n",
    "    print('Param:', param)\n",
    "    if param['w_embeds']:\n",
    "        pipeline.pipeline_args.w_embeds = True\n",
    "    else:\n",
    "        pipeline.pipeline_args.w_embeds = False\n",
    "    \n",
    "    final_valid_prompts = [passage[100:].split(' ')[0] for passage in valid_passage][2] \n",
    "    text_valid_conditioning = [passage[:100] for passage in valid_passage][2]\n",
    "    print('Passage', text_valid_conditioning, ' | Truth', [passage[100:200] for passage in valid_passage][2] )\n",
    "    generated_sequence = pipeline.generate(prompts = final_valid_prompts, \n",
    "                                        text_conditioning = text_valid_conditioning, \n",
    "                                        temperature = param['temperature'], \n",
    "                                        max_tokens = max_tokens,\n",
    "                                        truncate_double_space = False)\n",
    "    print('Valid  word', generated_sequence)\n",
    "    \n",
    "    final_valid_prompts = ['' for passage in train_passage][2]\n",
    "    text_valid_conditioning = [passage[:100] for passage in valid_passage][2]\n",
    "    generated_sequence = pipeline.generate(prompts = final_valid_prompts, \n",
    "                                        text_conditioning = text_valid_conditioning, \n",
    "                                        temperature = param['temperature'], \n",
    "                                        max_tokens = max_tokens,\n",
    "                                        truncate_double_space = False)\n",
    "    print('Valid  empty', generated_sequence)\n",
    "\n",
    "    final_train_prompts =  [passage[100:].split(' ')[0] for passage in train_passage][1] \n",
    "    text_train_conditioning = [passage[:100] for passage in train_passage][1]\n",
    "    print('Passage', text_train_conditioning, ' | Truth', [passage[100:200] for passage in train_passage][1] )\n",
    "    generated_sequence = pipeline.generate(prompts = final_train_prompts, \n",
    "                                       text_conditioning = text_train_conditioning, \n",
    "                                       temperature = param['temperature'], \n",
    "                                       max_tokens = max_tokens,\n",
    "                                       truncate_double_space = False)\n",
    "    print('Train word', generated_sequence)\n",
    "    final_train_prompts = ['' for passage in train_passage][1] \n",
    "    text_train_conditioning = [passage[:100] for passage in train_passage][1]\n",
    "    generated_sequence = pipeline.generate(prompts = final_train_prompts, \n",
    "                                       text_conditioning = text_train_conditioning, \n",
    "                                       temperature = param['temperature'], \n",
    "                                       max_tokens = max_tokens,\n",
    "                                       truncate_double_space = False)\n",
    "    print('Train empty', generated_sequence)\n"
   ]
  }
 ],
 "metadata": {
  "kernelspec": {
   "display_name": "Python 3 (ipykernel)",
   "language": "python",
   "name": "python3"
  },
  "language_info": {
   "codemirror_mode": {
    "name": "ipython",
    "version": 3
   },
   "file_extension": ".py",
   "mimetype": "text/x-python",
   "name": "python",
   "nbconvert_exporter": "python",
   "pygments_lexer": "ipython3",
   "version": "3.10.14"
  }
 },
 "nbformat": 4,
 "nbformat_minor": 2
}
