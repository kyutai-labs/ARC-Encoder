{
 "cells": [
  {
   "cell_type": "code",
   "execution_count": null,
   "metadata": {},
   "outputs": [
    {
     "name": "stderr",
     "output_type": "stream",
     "text": [
      "/home/hippolytepilchen/micromamba/envs/llm_embed/lib/python3.10/site-packages/tqdm/auto.py:21: TqdmWarning: IProgress not found. Please update jupyter and ipywidgets. See https://ipywidgets.readthedocs.io/en/stable/user_install.html\n",
      "  from .autonotebook import tqdm as notebook_tqdm\n"
     ]
    }
   ],
   "source": [
    "import torch\n",
    "from embed_llm.models.augmented_model import EmbedAugPipeline"
   ]
  },
  {
   "cell_type": "code",
   "execution_count": null,
   "metadata": {},
   "outputs": [],
   "source": [
    "# llm_path = '/lustre/scwpod02/client/kyutai-interns/hippop/models/Llama3.2-3B'\n",
    "# llm_path = '/lustre/scwpod02/client/kyutai-interns/hippop/models/Gemma7B'\n",
    "llm_path = '/lustre/scwpod02/client/kyutai-interns/hippop/models/mistral_7B'\n",
    "ckpt_path = '/lustre/scwpod02/client/kyutai-interns/hippop/tmp/act1a73c20b533bed0e3328/checkpoints/checkpoint_001000' # Mistral \n",
    "# ckpt_path = '/lustre/scwpod02/client/kyutai-interns/hippop/tmp/act0a84d43f52dc15053eff/checkpoints/checkpoint_001000'# Llama\n",
    "# ckpt_path = '/lustre/scwpod02/client/kyutai-interns/hippop/tmp/act7d8dde7a6309f5ca22de/checkpoints/checkpoint_001000' # Gemma\n",
    "\n",
    "model_name = 'Mistral7B' # Mistral7B, Llama3.2-3B, Gemma7B\n",
    "embed_model_name = 'NVEmbed'\n",
    "device = 'cuda' if torch.cuda.is_available() else 'cpu'"
   ]
  },
  {
   "cell_type": "code",
   "execution_count": null,
   "metadata": {},
   "outputs": [
    {
     "name": "stderr",
     "output_type": "stream",
     "text": [
      "Loading checkpoint shards: 100%|██████████████████████████████████████████████████████████████████████████████████████████████████████████████████████████████████████████████████| 4/4 [00:04<00:00,  1.01s/it]\n"
     ]
    }
   ],
   "source": [
    "pipeline: EmbedAugPipeline = EmbedAugPipeline.load_inference_model(llm_path = llm_path, \n",
    "                                                                   ckpt_path = ckpt_path, \n",
    "                                                                   model_name = model_name, \n",
    "                                                                   embed_model_name = embed_model_name,\n",
    "                                                                   device = device)"
   ]
  },
  {
   "cell_type": "code",
   "execution_count": null,
   "metadata": {},
   "outputs": [],
   "source": [
    "# 1 information in the doc which enables to answer the question\n",
    "# 2 Same\n",
    "# 3 Hard negative passage\n",
    "# 4 Same\n",
    "\n",
    "\n",
    "\n",
    "prompt_prefix = \"Query: who wrote the song photograph by ringo starr\\nAnswer: Ringo Starr\\n\\nQuery: who is playing the halftime show at super bowl 2016\\nAnswer: Coldplay\\n\\nQuery: where was the world economic forum held this year\\nAnswer: Davos\\n\\nQuery: where are the giant redwoods located in california\\nAnswer: Humboldt County\\n\\nQuery: who has made the most premier league appearances\\nAnswer: Gareth Barry\\n\\nQuery: \"\n",
    "prompts = ['who has most followers on instagram in world','who did the united states win its independence from', 'locations for the film an englishman who went up a hill', 'who is the valley of the dolls based on']\n",
    "final_prompts = [prompt_prefix + prompt + '\\nAnswer:' for prompt in prompts]\n",
    "\n",
    "text_conditioning = [\"This list contains the top 50 accounts with the most followers on the photo and video-sharing social platform Instagram. As of July 2019, the most followed user is Instagram's own account, with over 308 million followers. Cristiano Ronaldo is the most followed individual, with over 177 million followers. Fifteen accounts have exceeded 100 million followers on the site.\",\n",
    "                     \"During the American Revolution, the legal separation of the thirteen colonies from Great Britain in 1776 actually occurred on July 2, when the Second Continental Congress voted to approve a resolution of independence that had been proposed in June by Richard Henry Lee of Virginia declaring the United States independent from Great Britain's rule. After voting for independence, Congress turned its attention to the Declaration of Independence, a statement explaining this decision, which had been prepared by a Committee of Five, with Thomas Jefferson as its principal author. Congress debated and revised the wording of the Declaration, finally approving it two days later on July 4. A day earlier, John Adams had written to his wife Abigail\",\n",
    "                     'The village was a primary location for the making of the film \\\"The Englishman Who Went Up a Hill But Came Down a Mountain\\\", which starred Hugh Grant. The hilltop scenes were filmed on the Gyrn, the long hill that overlooks the village. It was also featured in \\\"Monk\\'s Hood\\\", an episode of \\\"The Cadfael Chronicles\\\"',\n",
    "                     'Valley of the Dolls is the first novel by American writer Jacqueline Susann. Published in 1966, the book was the biggest selling novel of its year. To date, it has sold more than 31 million copies, making it one of the best-selling works in publishing history.']\n",
    "\n",
    "answers = ['Instagram','Great Britain',\"Llansilin in Powys\",[\"Judy Garland\", \"Carole Landis\", \"Dean Martin\", \"Ethel Merman\"]]\n",
    "\n",
    "w_embeds = True\n",
    "max_tokens = 512\n",
    "temperature = 0.8"
   ]
  },
  {
   "cell_type": "code",
   "execution_count": null,
   "metadata": {},
   "outputs": [
    {
     "name": "stderr",
     "output_type": "stream",
     "text": [
      "/home/hippolytepilchen/.cache/huggingface/modules/transformers_modules/nvidia/NV-Embed-v2/7604d305b621f14095a1aa23d351674c2859553a/modeling_nvembed.py:349: UserWarning: To copy construct from a tensor, it is recommended to use sourceTensor.clone().detach() or sourceTensor.clone().detach().requires_grad_(True), rather than torch.tensor(sourceTensor).\n",
      "  'input_ids': torch.tensor(batch_dict.get('input_ids').to(batch_dict.get('input_ids')).long()),\n"
     ]
    }
   ],
   "source": [
    "generated_sequence = pipeline.generate(prompts = final_prompts, \n",
    "                                       text_conditioning = text_conditioning, \n",
    "                                       temperature = temperature, \n",
    "                                       max_tokens = max_tokens, \n",
    "                                       w_embeds = w_embeds)"
   ]
  },
  {
   "cell_type": "code",
   "execution_count": null,
   "metadata": {},
   "outputs": [
    {
     "data": {
      "text/plain": [
       "['Selena Gomez\\n\\n\\n\\n\\n\\n\\n\\n\\n\\n\\n\\n\\n\\nGarete\\n\\n\\n\\n\\nGrette\\n\\n\\nRetire\\nRetiret\\nRetiretiretiretiretiretireti\\n\\n\\n\\nRetirete\\n\\n\\n\\n\\nRetiretiretireti\\n\\nRetireti\\n\\nRetireti\\nRetireti\\n\\n\\n\\nRetireti\\n\\n\\nRetiretireti\\n\\nRetireti\\n\\nRetireti\\nRetiretireti\\n\\n\\n\\n\\n\\n\\n\\n\\n\\nRetireti\\n\\n\\n\\n\\nRetiretyretireti\\n\\n\\n\\n\\n\\n\\n\\n\\n\\n\\nRetireti\\n\\n\\n\\n\\n\\nRetireti\\n\\n\\n\\nRetenti\\n\\nRetireti\\n\\n\\n\\nRetetryretiretiretyretireti\\n\\n\\n\\n\\n\\nRetetry\\n\\n\\nRetirety\\n\\n\\n\\n\\n\\n\\n\\n\\n\\n\\n\\n\\n\\n\\n\\n\\n\\n\\n\\n\\n\\nRet\\n\\n\\n\\nRetirety\\n\\n\\nRetiretyneti\\n\\nRet\\n\\neti\\n\\n\\nRetetry\\n\\n\\n\\n\\n\\n\\nRetirety\\n\\n\\nneatir\\n00CatherineRetieret\\n1504finter5\\n%16tirnet0.retnRette_teiretiretret5reticity0-Retite5retinet\\nhetretiretyiretefrettiRettiniertireteir)etyRetighteriret\\nty004\\nRet\\nti\\ninerTITy&net\\ntif\\ncitet0\\nREty\\n\\nHtty?t\\n\\n\\nretnetheter\\ntvheight00\\nTickett0t}}}00j�TREE0�icate0�„�️�atique00ۮۇ¨ۇ‰ۍ۟ti��TYےۋ۟ۇۇۙۮۋ۫ےےۇ۟ۉۚۙۇۦۿۘۃۗۙۏۮۇ۟ۏۙۿۋےۋې۫ےۃۥۙےۋےۋ۬ۇ�',\n",
       " \"Great Britain\\n\\n\\n\\n\\n\\n\\n\\n\\n\\nDeclar\\n\\nDee\\nD\\nEeid\\n\\nDiadid\\n\\nDiad idididid\\n\\n\\nDiad\\n\\n\\nDiad\\n\\nIdiDiazid\\nIdz\\nZiz Ziz Baz Bazidz Baziz Baziz\\nZizayadzayzaziz bayzizzyzay Zizzy\\n\\nZy\\nZay Zizay Zy Baz Ziz Baziz Basidziz Baziz Basiz Baz Zizbasiz\\nBasiz Bazim Bazizbiz Basiz Bayizbid\\nZim Bazimby Baz bybiz byby Bayizbid byby Baz by by by biz By Basem\\n\\n\\nZim by Bym by by by by Baz by by biby by Byzizbid by By Bazim by by by bym by Bazim by By Basimby By Basiz by biz By By Bay\\n\\nZym by by b y by by biz by by Bazym by By By By Basim\\n\\nZymbym byz by yazymby by By By y\\nbyzyiz\\nid\\n�aa Zarm___n___\\n___ ___\\n___\\n___\\n___by___by___em______\\n_____\\n___id___\\n__\\n___η___B___\\n_______\\n___\\n___\\n___\\n___b___\\nby___b___bas_____\\n___\\n___\\nbas___by___�___by___ By Z___by________b___by___by___by''___η___♦___\\n___by___z___\\n___By''H___ By ''''___H''4''█'_'\\n'''___'\\n''\\n''___by''5''\\n''y''z''½'''' By''''em''H''him''Hi''by''\\n''\\n''by'''''5''by''by''HD''hi''m''''5''By''''\\n''''''``′′\\n''bid''b''by''''H''H''5''''i'' By''''>''─''\\n''''{''}''>''''``By''''5''''\\n''�''''\\n''/''''' y''\",\n",
       " \"Wales\\n\\n\\n\\n\\n\\n\\n\\n\\n\\n\\n\\n\\n\\n\\n f\\n\\n\\n ff\\n\\n fff fff f ff\\n\\n\\n\\n\\n ff\\n ff f\\n\\n\\n\\n f f\\n fff\\n f ff\\n fff\\n fhe\\n fhe\\n\\n\\n fhe\\nhe fhe fhe\\n\\nhe\\nhe\\n\\n\\nhe\\nhe\\nhe\\nhe he\\nhe hefhefhe\\nhe\\nhe\\nfhe heffhe fhe fhe\\nhe heff heffhe fhe\\nhe ffhe\\nhe fhe ff hehe fhe ffhef he\\n\\nhefhe fhe fhefhe\\nhe\\nf ff he ff he ffhe\\nfhe ff ff hefhe ffhefhef ffhe ffhe\\nhe\\nfhe\\nhe\\nf\\nhefhe\\nf ff fhe ffhe\\nhe\\nhe ff fhe\\nhe\\nhe ffhe\\nhe\\nfhefhe\\nhef ffhe\\nhe\\nhefhefhe\\nhe\\nfhe\\nhe\\nfhe\\nhef\\nhe\\nhe\\n\\n f\\n\\nf''f''''f''f''''''''f''\\n''\\n''f''he''\\n''he''\\n''f''f''f''f''he''f''f''heff'_\\nff''heffhe''f��\\n��������������̀����������������������̈�з���′��¶��°�','н��😎���ۙ�‚в´���5�������]�5)��б�●���¼�̄�‚�%�>��¾�µ�ː��������д�ц��/_�ʼ¨�Ă�κ��̀�с�½��Æ�$_{�з��¾'}��',´�\\u2060���б‹�4���ʼ�а�{2'}�{0ел�•�69�6�›‘П�\\u200f�½�5`\",\n",
       " \"Jacqueline Sue\\n\\n\\n\\n\\n\\n\\n\\n\\n\\n\\n\\n\\n\\n\\n\\n\\n\\n\\n\\n\\n\\n\\n\\n\\n\\n\\n\\n\\n\\n\\n\\n\\n\\n\\n\\n\\n\\n\\n\\n\\n\\n\\n\\n\\n\\n\\n\\n\\n\\n\\n\\n\\n\\n\\n\\n\\n\\n\\n\\n\\n\\n\\n\\n\\n\\n\\n\\n\\n\\n\\n\\n\\n\\n\\n\\n\\n\\n\\n\\n\\n\\n\\n\\n\\n\\n\\n\\n\\n\\n\\n\\n\\n\\n\\n\\n\\n\\n\\n\\n\\n\\n\\n\\n\\n\\n\\n\\n\\n\\n\\n\\n\\n\\n\\n\\n\\n\\n\\n\\n\\n\\n\\n\\n\\n\\n\\n\\n\\n\\n\\n\\n\\n\\n\\n\\n\\n\\n\\n\\n\\n\\n\\n\\n\\n\\n\\n\\n\\n\\n\\n\\n\\n\\n\\n\\n\\n\\n\\n\\n\\n\\n\\n\\n\\n\\n\\n\\n\\n\\n\\n\\n\\n\\n\\n\\n\\n\\n\\n\\n\\n\\n\\n\\n\\n\\n\\n\\n\\n\\n\\n\\n\\n\\n\\n\\n\\n\\n\\n\\n\\n\\n\\n\\n\\n\\n\\n\\n\\n\\n\\n\\n\\n\\n\\n\\n\\n\\n\\n\\n\\n\\n\\n\\n\\n\\n\\n\\n\\n\\n\\n\\n\\n\\n\\n\\n\\n\\n\\n\\n\\n\\n\\n\\n\\n\\n\\n\\n\\n\\n\\n\\n\\n\\n\\n\\n\\n\\n\\n\\n\\n\\nam’\\n½\\n\\n\\n¢©\\n¢¢\\n¢¢ˆ¢¢','¢ª¢¢'''●¢ª\\n¢¢�♀¢̈\\n�█¦�¤¢○♦¢�§═¢�ћº\\n¸�éÇ¤Ç¢·\\n¦◦\\n�¢�►¨ʹ¢�€¢�ָ�ˆƒ▲��\\x1a�¹¬����́�♭�\\x88�\\x9d■�′�Ь�Σ�\\x8f�Ă¨��ª¸�ʻ¥��\\x00��¢����\\n��αʼ¦��ʼ₹¢���‡���■¢■–º‘�░��†�ʼ�\\\\[�≤�˜�¢¸�•�̞¨○�\\x83¾�\\x81�˜�🙌��\\x82ʹ�ACTION��\\u202c̄�•\\n�з�∙��⋅�ֶ�τ��Æπ︎Æ¢�'=>¨′]��»�Ь️¸�¢¸�ICAL‚€�¾́��˜¼´��\\x02ʹ�‚\"]"
      ]
     },
     "execution_count": 6,
     "metadata": {},
     "output_type": "execute_result"
    }
   ],
   "source": [
    "generated_sequence"
   ]
  },
  {
   "cell_type": "code",
   "execution_count": null,
   "metadata": {},
   "outputs": [],
   "source": []
  }
 ],
 "metadata": {
  "kernelspec": {
   "display_name": "Python 3 (ipykernel)",
   "language": "python",
   "name": "python3"
  },
  "language_info": {
   "codemirror_mode": {
    "name": "ipython",
    "version": 3
   },
   "file_extension": ".py",
   "mimetype": "text/x-python",
   "name": "python",
   "nbconvert_exporter": "python",
   "pygments_lexer": "ipython3",
   "version": "3.10.14"
  }
 },
 "nbformat": 4,
 "nbformat_minor": 2
}
